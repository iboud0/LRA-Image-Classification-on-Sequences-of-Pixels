{
 "cells": [
  {
   "cell_type": "code",
   "execution_count": 1,
   "id": "105e9168",
   "metadata": {
    "execution": {
     "iopub.execute_input": "2024-12-08T13:50:13.608930Z",
     "iopub.status.busy": "2024-12-08T13:50:13.608210Z",
     "iopub.status.idle": "2024-12-08T13:50:31.841263Z",
     "shell.execute_reply": "2024-12-08T13:50:31.840289Z"
    },
    "papermill": {
     "duration": 18.240664,
     "end_time": "2024-12-08T13:50:31.843670",
     "exception": false,
     "start_time": "2024-12-08T13:50:13.603006",
     "status": "completed"
    },
    "tags": []
   },
   "outputs": [],
   "source": [
    "import torch\n",
    "from torch import nn\n",
    "from torch.utils.data import Dataset, DataLoader\n",
    "from torchvision import transforms\n",
    "from torchvision.datasets import CIFAR10\n",
    "from transformers import FNetConfig, FNetForSequenceClassification, AdamW\n",
    "from tqdm import tqdm\n",
    "import torch.nn.functional as F"
   ]
  },
  {
   "cell_type": "code",
   "execution_count": 2,
   "id": "88707dcf",
   "metadata": {
    "_cell_guid": "b1076dfc-b9ad-4769-8c92-a6c4dae69d19",
    "_uuid": "8f2839f25d086af736a60e9eeb907d3b93b6e0e5",
    "execution": {
     "iopub.execute_input": "2024-12-08T13:50:31.849740Z",
     "iopub.status.busy": "2024-12-08T13:50:31.849209Z",
     "iopub.status.idle": "2024-12-08T13:50:31.855953Z",
     "shell.execute_reply": "2024-12-08T13:50:31.855241Z"
    },
    "papermill": {
     "duration": 0.01135,
     "end_time": "2024-12-08T13:50:31.857567",
     "exception": false,
     "start_time": "2024-12-08T13:50:31.846217",
     "status": "completed"
    },
    "tags": []
   },
   "outputs": [],
   "source": [
    "# Define Custom Dataset Wrapper\n",
    "\n",
    "class CustomCIFAR10Dataset(Dataset):\n",
    "    def __init__(self, cifar_dataset, transform=None, flatten=False):\n",
    "        self.cifar_dataset = cifar_dataset\n",
    "        self.transform = transform\n",
    "        self.flatten = flatten\n",
    "\n",
    "    def __len__(self):\n",
    "        return len(self.cifar_dataset)\n",
    "\n",
    "    def __getitem__(self, idx):\n",
    "        image, label = self.cifar_dataset[idx]\n",
    "        if self.transform:\n",
    "            image = self.transform(image)\n",
    "        if self.flatten:\n",
    "            image = image.view(-1)  # Flatten [1, 32, 32] to [1024]\n",
    "        # Convert to indices and clamp\n",
    "        image = torch.clamp((image * 255).long(), min=0, max=255)\n",
    "        return image, label\n",
    "\n",
    "# Preprocessing\n",
    "\n",
    "transform = transforms.Compose([\n",
    "    transforms.Grayscale(num_output_channels=1),\n",
    "    transforms.ToTensor(),\n",
    "    transforms.Normalize((0.5,), (0.5,))\n",
    "])\n"
   ]
  },
  {
   "cell_type": "code",
   "execution_count": 3,
   "id": "219f5af6",
   "metadata": {
    "execution": {
     "iopub.execute_input": "2024-12-08T13:50:31.862554Z",
     "iopub.status.busy": "2024-12-08T13:50:31.862301Z",
     "iopub.status.idle": "2024-12-08T13:50:53.305931Z",
     "shell.execute_reply": "2024-12-08T13:50:53.305201Z"
    },
    "papermill": {
     "duration": 21.448356,
     "end_time": "2024-12-08T13:50:53.307921",
     "exception": false,
     "start_time": "2024-12-08T13:50:31.859565",
     "status": "completed"
    },
    "tags": []
   },
   "outputs": [
    {
     "name": "stdout",
     "output_type": "stream",
     "text": [
      "Downloading https://www.cs.toronto.edu/~kriz/cifar-10-python.tar.gz to ./data/cifar-10-python.tar.gz\n"
     ]
    },
    {
     "name": "stderr",
     "output_type": "stream",
     "text": [
      "100%|██████████| 170498071/170498071 [00:16<00:00, 10176678.31it/s]\n"
     ]
    },
    {
     "name": "stdout",
     "output_type": "stream",
     "text": [
      "Extracting ./data/cifar-10-python.tar.gz to ./data\n",
      "Files already downloaded and verified\n"
     ]
    }
   ],
   "source": [
    "# Load CIFAR-10 Dataset\n",
    "\n",
    "original_cifar_train = CIFAR10(root='./data', train=True, download=True)\n",
    "original_cifar_test = CIFAR10(root='./data', train=False, download=True)\n"
   ]
  },
  {
   "cell_type": "code",
   "execution_count": 4,
   "id": "1af49f99",
   "metadata": {
    "execution": {
     "iopub.execute_input": "2024-12-08T13:50:53.321695Z",
     "iopub.status.busy": "2024-12-08T13:50:53.321422Z",
     "iopub.status.idle": "2024-12-08T13:50:53.326031Z",
     "shell.execute_reply": "2024-12-08T13:50:53.325249Z"
    },
    "papermill": {
     "duration": 0.012963,
     "end_time": "2024-12-08T13:50:53.327497",
     "exception": false,
     "start_time": "2024-12-08T13:50:53.314534",
     "status": "completed"
    },
    "tags": []
   },
   "outputs": [],
   "source": [
    "train_dataset = CustomCIFAR10Dataset(original_cifar_train, transform=transform, flatten=True)\n",
    "test_dataset = CustomCIFAR10Dataset(original_cifar_test, transform=transform, flatten=True)\n",
    "\n",
    "train_loader = DataLoader(train_dataset, batch_size=32, shuffle=True)\n",
    "test_loader = DataLoader(test_dataset, batch_size=32, shuffle=False)\n"
   ]
  },
  {
   "cell_type": "code",
   "execution_count": 5,
   "id": "b2570423",
   "metadata": {
    "execution": {
     "iopub.execute_input": "2024-12-08T13:50:53.341457Z",
     "iopub.status.busy": "2024-12-08T13:50:53.341198Z",
     "iopub.status.idle": "2024-12-08T13:50:53.345581Z",
     "shell.execute_reply": "2024-12-08T13:50:53.344863Z"
    },
    "papermill": {
     "duration": 0.01264,
     "end_time": "2024-12-08T13:50:53.347192",
     "exception": false,
     "start_time": "2024-12-08T13:50:53.334552",
     "status": "completed"
    },
    "tags": []
   },
   "outputs": [],
   "source": [
    "\n",
    "# Model Configuration\n",
    "num_labels = 10  # CIFAR-10 has 10 classes\n",
    "sequence_length = 1024  # Each image is flattened into a vector of size 1024\n",
    "\n",
    "config = FNetConfig(\n",
    "    vocab_size=256,  # Pixel values are now tokenized into 256 levels (0-255)\n",
    "    hidden_size=512,  # Hidden layer size\n",
    "    num_hidden_layers=4,  # Number of FNet layers\n",
    "    intermediate_size=1024,  # Size of intermediate FFN layers\n",
    "    num_attention_heads=8,  # Not used, but part of the config\n",
    "    max_position_embeddings=sequence_length,  # Maximum sequence length\n",
    "    num_labels=num_labels,  # Number of classes for classification\n",
    ")\n"
   ]
  },
  {
   "cell_type": "code",
   "execution_count": 6,
   "id": "0a1c2605",
   "metadata": {
    "execution": {
     "iopub.execute_input": "2024-12-08T13:50:53.360554Z",
     "iopub.status.busy": "2024-12-08T13:50:53.359785Z",
     "iopub.status.idle": "2024-12-08T13:50:53.745561Z",
     "shell.execute_reply": "2024-12-08T13:50:53.744483Z"
    },
    "papermill": {
     "duration": 0.394609,
     "end_time": "2024-12-08T13:50:53.747719",
     "exception": false,
     "start_time": "2024-12-08T13:50:53.353110",
     "status": "completed"
    },
    "tags": []
   },
   "outputs": [
    {
     "name": "stdout",
     "output_type": "stream",
     "text": [
      "Using device: cuda\n"
     ]
    },
    {
     "name": "stderr",
     "output_type": "stream",
     "text": [
      "/opt/conda/lib/python3.10/site-packages/transformers/optimization.py:591: FutureWarning: This implementation of AdamW is deprecated and will be removed in a future version. Use the PyTorch implementation torch.optim.AdamW instead, or set `no_deprecation_warning=True` to disable this warning\n",
      "  warnings.warn(\n"
     ]
    }
   ],
   "source": [
    "device = \"cuda\" if torch.cuda.is_available() else \"cpu\"\n",
    "print(f\"Using device: {device}\")\n",
    "\n",
    "# Initialize Model\n",
    "model = FNetForSequenceClassification(config).to(device)\n",
    "\n",
    "# Optimizer and Loss\n",
    "optimizer = AdamW(model.parameters(), lr=5e-4)\n",
    "loss_fn = torch.nn.CrossEntropyLoss()\n"
   ]
  },
  {
   "cell_type": "code",
   "execution_count": 7,
   "id": "5e246676",
   "metadata": {
    "execution": {
     "iopub.execute_input": "2024-12-08T13:50:53.761386Z",
     "iopub.status.busy": "2024-12-08T13:50:53.761088Z",
     "iopub.status.idle": "2024-12-08T16:09:05.244719Z",
     "shell.execute_reply": "2024-12-08T16:09:05.243680Z"
    },
    "papermill": {
     "duration": 8291.492918,
     "end_time": "2024-12-08T16:09:05.246929",
     "exception": false,
     "start_time": "2024-12-08T13:50:53.754011",
     "status": "completed"
    },
    "tags": []
   },
   "outputs": [
    {
     "name": "stdout",
     "output_type": "stream",
     "text": [
      "Epoch 1/25\n"
     ]
    },
    {
     "name": "stderr",
     "output_type": "stream",
     "text": [
      "100%|██████████| 1563/1563 [05:32<00:00,  4.70it/s]\n"
     ]
    },
    {
     "name": "stdout",
     "output_type": "stream",
     "text": [
      "Loss: 2.1653, Accuracy: 0.1748\n",
      "Epoch 2/25\n"
     ]
    },
    {
     "name": "stderr",
     "output_type": "stream",
     "text": [
      "100%|██████████| 1563/1563 [05:31<00:00,  4.72it/s]\n"
     ]
    },
    {
     "name": "stdout",
     "output_type": "stream",
     "text": [
      "Loss: 1.9533, Accuracy: 0.2650\n",
      "Epoch 3/25\n"
     ]
    },
    {
     "name": "stderr",
     "output_type": "stream",
     "text": [
      "100%|██████████| 1563/1563 [05:31<00:00,  4.72it/s]\n"
     ]
    },
    {
     "name": "stdout",
     "output_type": "stream",
     "text": [
      "Loss: 1.8837, Accuracy: 0.2947\n",
      "Epoch 4/25\n"
     ]
    },
    {
     "name": "stderr",
     "output_type": "stream",
     "text": [
      "100%|██████████| 1563/1563 [05:31<00:00,  4.71it/s]\n"
     ]
    },
    {
     "name": "stdout",
     "output_type": "stream",
     "text": [
      "Loss: 1.8263, Accuracy: 0.3204\n",
      "Epoch 5/25\n"
     ]
    },
    {
     "name": "stderr",
     "output_type": "stream",
     "text": [
      "100%|██████████| 1563/1563 [05:32<00:00,  4.70it/s]\n"
     ]
    },
    {
     "name": "stdout",
     "output_type": "stream",
     "text": [
      "Loss: 1.7623, Accuracy: 0.3495\n",
      "Epoch 6/25\n"
     ]
    },
    {
     "name": "stderr",
     "output_type": "stream",
     "text": [
      "100%|██████████| 1563/1563 [05:32<00:00,  4.70it/s]\n"
     ]
    },
    {
     "name": "stdout",
     "output_type": "stream",
     "text": [
      "Loss: 1.7062, Accuracy: 0.3728\n",
      "Epoch 7/25\n"
     ]
    },
    {
     "name": "stderr",
     "output_type": "stream",
     "text": [
      "100%|██████████| 1563/1563 [05:32<00:00,  4.70it/s]\n"
     ]
    },
    {
     "name": "stdout",
     "output_type": "stream",
     "text": [
      "Loss: 1.6678, Accuracy: 0.3900\n",
      "Epoch 8/25\n"
     ]
    },
    {
     "name": "stderr",
     "output_type": "stream",
     "text": [
      "100%|██████████| 1563/1563 [05:32<00:00,  4.71it/s]\n"
     ]
    },
    {
     "name": "stdout",
     "output_type": "stream",
     "text": [
      "Loss: 1.6308, Accuracy: 0.4033\n",
      "Epoch 9/25\n"
     ]
    },
    {
     "name": "stderr",
     "output_type": "stream",
     "text": [
      "100%|██████████| 1563/1563 [05:32<00:00,  4.71it/s]\n"
     ]
    },
    {
     "name": "stdout",
     "output_type": "stream",
     "text": [
      "Loss: 1.6008, Accuracy: 0.4154\n",
      "Epoch 10/25\n"
     ]
    },
    {
     "name": "stderr",
     "output_type": "stream",
     "text": [
      "100%|██████████| 1563/1563 [05:32<00:00,  4.71it/s]\n"
     ]
    },
    {
     "name": "stdout",
     "output_type": "stream",
     "text": [
      "Loss: 1.5727, Accuracy: 0.4240\n",
      "Epoch 11/25\n"
     ]
    },
    {
     "name": "stderr",
     "output_type": "stream",
     "text": [
      "100%|██████████| 1563/1563 [05:31<00:00,  4.71it/s]\n"
     ]
    },
    {
     "name": "stdout",
     "output_type": "stream",
     "text": [
      "Loss: 1.5386, Accuracy: 0.4379\n",
      "Epoch 12/25\n"
     ]
    },
    {
     "name": "stderr",
     "output_type": "stream",
     "text": [
      "100%|██████████| 1563/1563 [05:31<00:00,  4.72it/s]\n"
     ]
    },
    {
     "name": "stdout",
     "output_type": "stream",
     "text": [
      "Loss: 1.5082, Accuracy: 0.4504\n",
      "Epoch 13/25\n"
     ]
    },
    {
     "name": "stderr",
     "output_type": "stream",
     "text": [
      "100%|██████████| 1563/1563 [05:31<00:00,  4.71it/s]\n"
     ]
    },
    {
     "name": "stdout",
     "output_type": "stream",
     "text": [
      "Loss: 1.4796, Accuracy: 0.4614\n",
      "Epoch 14/25\n"
     ]
    },
    {
     "name": "stderr",
     "output_type": "stream",
     "text": [
      "100%|██████████| 1563/1563 [05:31<00:00,  4.72it/s]\n"
     ]
    },
    {
     "name": "stdout",
     "output_type": "stream",
     "text": [
      "Loss: 1.4486, Accuracy: 0.4746\n",
      "Epoch 15/25\n"
     ]
    },
    {
     "name": "stderr",
     "output_type": "stream",
     "text": [
      "100%|██████████| 1563/1563 [05:31<00:00,  4.72it/s]\n"
     ]
    },
    {
     "name": "stdout",
     "output_type": "stream",
     "text": [
      "Loss: 1.4264, Accuracy: 0.4828\n",
      "Epoch 16/25\n"
     ]
    },
    {
     "name": "stderr",
     "output_type": "stream",
     "text": [
      "100%|██████████| 1563/1563 [05:30<00:00,  4.72it/s]\n"
     ]
    },
    {
     "name": "stdout",
     "output_type": "stream",
     "text": [
      "Loss: 1.4002, Accuracy: 0.4910\n",
      "Epoch 17/25\n"
     ]
    },
    {
     "name": "stderr",
     "output_type": "stream",
     "text": [
      "100%|██████████| 1563/1563 [05:31<00:00,  4.72it/s]\n"
     ]
    },
    {
     "name": "stdout",
     "output_type": "stream",
     "text": [
      "Loss: 1.3778, Accuracy: 0.5004\n",
      "Epoch 18/25\n"
     ]
    },
    {
     "name": "stderr",
     "output_type": "stream",
     "text": [
      "100%|██████████| 1563/1563 [05:31<00:00,  4.72it/s]\n"
     ]
    },
    {
     "name": "stdout",
     "output_type": "stream",
     "text": [
      "Loss: 1.3452, Accuracy: 0.5133\n",
      "Epoch 19/25\n"
     ]
    },
    {
     "name": "stderr",
     "output_type": "stream",
     "text": [
      "100%|██████████| 1563/1563 [05:30<00:00,  4.72it/s]\n"
     ]
    },
    {
     "name": "stdout",
     "output_type": "stream",
     "text": [
      "Loss: 1.3231, Accuracy: 0.5208\n",
      "Epoch 20/25\n"
     ]
    },
    {
     "name": "stderr",
     "output_type": "stream",
     "text": [
      "100%|██████████| 1563/1563 [05:31<00:00,  4.72it/s]\n"
     ]
    },
    {
     "name": "stdout",
     "output_type": "stream",
     "text": [
      "Loss: 1.3006, Accuracy: 0.5281\n",
      "Epoch 21/25\n"
     ]
    },
    {
     "name": "stderr",
     "output_type": "stream",
     "text": [
      "100%|██████████| 1563/1563 [05:31<00:00,  4.71it/s]\n"
     ]
    },
    {
     "name": "stdout",
     "output_type": "stream",
     "text": [
      "Loss: 1.2714, Accuracy: 0.5385\n",
      "Epoch 22/25\n"
     ]
    },
    {
     "name": "stderr",
     "output_type": "stream",
     "text": [
      "100%|██████████| 1563/1563 [05:31<00:00,  4.71it/s]\n"
     ]
    },
    {
     "name": "stdout",
     "output_type": "stream",
     "text": [
      "Loss: 1.2498, Accuracy: 0.5496\n",
      "Epoch 23/25\n"
     ]
    },
    {
     "name": "stderr",
     "output_type": "stream",
     "text": [
      "100%|██████████| 1563/1563 [05:31<00:00,  4.72it/s]\n"
     ]
    },
    {
     "name": "stdout",
     "output_type": "stream",
     "text": [
      "Loss: 1.2224, Accuracy: 0.5583\n",
      "Epoch 24/25\n"
     ]
    },
    {
     "name": "stderr",
     "output_type": "stream",
     "text": [
      "100%|██████████| 1563/1563 [05:31<00:00,  4.72it/s]\n"
     ]
    },
    {
     "name": "stdout",
     "output_type": "stream",
     "text": [
      "Loss: 1.2006, Accuracy: 0.5627\n",
      "Epoch 25/25\n"
     ]
    },
    {
     "name": "stderr",
     "output_type": "stream",
     "text": [
      "100%|██████████| 1563/1563 [05:31<00:00,  4.71it/s]"
     ]
    },
    {
     "name": "stdout",
     "output_type": "stream",
     "text": [
      "Loss: 1.1654, Accuracy: 0.5776\n"
     ]
    },
    {
     "name": "stderr",
     "output_type": "stream",
     "text": [
      "\n"
     ]
    }
   ],
   "source": [
    "# Training Loop\n",
    "epochs = 25\n",
    "model.train()\n",
    "\n",
    "for epoch in range(epochs):\n",
    "    print(f\"Epoch {epoch+1}/{epochs}\")\n",
    "    running_loss = 0.0\n",
    "    correct = 0\n",
    "    total = 0\n",
    "\n",
    "    for inputs, labels in tqdm(train_loader):\n",
    "        inputs, labels = inputs.to(device), labels.to(device)\n",
    "\n",
    "        optimizer.zero_grad()\n",
    "        outputs = model(inputs)[\"logits\"]  # Forward pass\n",
    "        loss = loss_fn(outputs, labels)  # Compute loss\n",
    "        loss.backward()  # Backward pass\n",
    "        optimizer.step()  # Update parameters\n",
    "\n",
    "        # Statistics\n",
    "        running_loss += loss.item()\n",
    "        _, predicted = torch.max(outputs, 1)\n",
    "        total += labels.size(0)\n",
    "        correct += (predicted == labels).sum().item()\n",
    "\n",
    "    epoch_loss = running_loss / len(train_loader)\n",
    "    epoch_acc = correct / total\n",
    "    print(f\"Loss: {epoch_loss:.4f}, Accuracy: {epoch_acc:.4f}\")\n"
   ]
  },
  {
   "cell_type": "code",
   "execution_count": 8,
   "id": "a62512cb",
   "metadata": {
    "execution": {
     "iopub.execute_input": "2024-12-08T16:09:09.007691Z",
     "iopub.status.busy": "2024-12-08T16:09:09.007342Z",
     "iopub.status.idle": "2024-12-08T16:09:35.376045Z",
     "shell.execute_reply": "2024-12-08T16:09:35.375144Z"
    },
    "papermill": {
     "duration": 28.217277,
     "end_time": "2024-12-08T16:09:35.377770",
     "exception": false,
     "start_time": "2024-12-08T16:09:07.160493",
     "status": "completed"
    },
    "tags": []
   },
   "outputs": [
    {
     "name": "stderr",
     "output_type": "stream",
     "text": [
      "100%|██████████| 313/313 [00:26<00:00, 11.87it/s]"
     ]
    },
    {
     "name": "stdout",
     "output_type": "stream",
     "text": [
      "Test Loss: 1.5721, Test Accuracy: 0.4602\n"
     ]
    },
    {
     "name": "stderr",
     "output_type": "stream",
     "text": [
      "\n"
     ]
    }
   ],
   "source": [
    "# Evaluation Loop\n",
    "model.eval()\n",
    "test_loss = 0.0\n",
    "correct = 0\n",
    "total = 0\n",
    "\n",
    "with torch.no_grad():\n",
    "    for inputs, labels in tqdm(test_loader):\n",
    "        inputs, labels = inputs.to(device), labels.to(device)\n",
    "        outputs = model(inputs)[\"logits\"]\n",
    "        loss = loss_fn(outputs, labels)\n",
    "\n",
    "        test_loss += loss.item()\n",
    "        _, predicted = torch.max(outputs, 1)\n",
    "        total += labels.size(0)\n",
    "        correct += (predicted == labels).sum().item()\n",
    "\n",
    "test_loss /= len(test_loader)\n",
    "test_acc = correct / total\n",
    "print(f\"Test Loss: {test_loss:.4f}, Test Accuracy: {test_acc:.4f}\")\n"
   ]
  }
 ],
 "metadata": {
  "kaggle": {
   "accelerator": "gpu",
   "dataSources": [],
   "dockerImageVersionId": 30805,
   "isGpuEnabled": true,
   "isInternetEnabled": true,
   "language": "python",
   "sourceType": "notebook"
  },
  "kernelspec": {
   "display_name": "Python 3",
   "language": "python",
   "name": "python3"
  },
  "language_info": {
   "codemirror_mode": {
    "name": "ipython",
    "version": 3
   },
   "file_extension": ".py",
   "mimetype": "text/x-python",
   "name": "python",
   "nbconvert_exporter": "python",
   "pygments_lexer": "ipython3",
   "version": "3.10.14"
  },
  "papermill": {
   "default_parameters": {},
   "duration": 8369.474612,
   "end_time": "2024-12-08T16:09:40.637382",
   "environment_variables": {},
   "exception": null,
   "input_path": "__notebook__.ipynb",
   "output_path": "__notebook__.ipynb",
   "parameters": {},
   "start_time": "2024-12-08T13:50:11.162770",
   "version": "2.6.0"
  }
 },
 "nbformat": 4,
 "nbformat_minor": 5
}
