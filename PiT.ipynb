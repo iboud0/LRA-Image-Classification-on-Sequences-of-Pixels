{
 "cells": [
  {
   "cell_type": "markdown",
   "id": "68b23446",
   "metadata": {},
   "source": [
    "## Pixel Transformer (PiT)"
   ]
  },
  {
   "cell_type": "code",
   "execution_count": null,
   "id": "e2eaa591",
   "metadata": {
    "execution": {
     "iopub.execute_input": "2024-12-08T03:34:07.164899Z",
     "iopub.status.busy": "2024-12-08T03:34:07.164638Z",
     "iopub.status.idle": "2024-12-08T03:34:12.339182Z",
     "shell.execute_reply": "2024-12-08T03:34:12.338378Z"
    },
    "id": "gTTliOxGjyj8",
    "papermill": {
     "duration": 5.182673,
     "end_time": "2024-12-08T03:34:12.341332",
     "exception": false,
     "start_time": "2024-12-08T03:34:07.158659",
     "status": "completed"
    },
    "tags": []
   },
   "outputs": [],
   "source": [
    "import torch\n",
    "import numpy as np\n",
    "import pandas as pd\n",
    "from torch.utils.data import DataLoader, Dataset\n",
    "from torchvision import transforms\n",
    "import matplotlib.pyplot as plt\n",
    "import torch.nn as nn\n",
    "import torch.nn.functional as F\n",
    "\n",
    "import warnings\n",
    "warnings.filterwarnings('ignore')"
   ]
  },
  {
   "cell_type": "markdown",
   "id": "175e2e00",
   "metadata": {},
   "source": [
    "### Data Loading and Processing\n",
    "\n",
    "In this section, we load the CIFAR-10 dataset from the official website: [CIFAR-10 Dataset](https://www.cs.toronto.edu/~kriz/cifar.html).  \n",
    "The dataset consists of five training files (each named `data_batch_i` where i is the file number) and one test file.\n"
   ]
  },
  {
   "cell_type": "markdown",
   "id": "8fc8c6b7",
   "metadata": {},
   "source": [
    "\n",
    "#### Processing Workflow\n",
    "1. **Loading and Processing:** Each data batch was processed individually due to insufficient RAM when running this notebook in Google Colab.\n",
    "2. **Image Conversion:** The 1D image data was converted into pixel-by-pixel image arrays.\n",
    "3. **Saving Intermediate Results:** Each processed batch was saved as a separate file.\n",
    "4. **Merging Batches:** The processed training batches were merged into a single file and saved.\n",
    "5. **Test File:** The test file was processed and saved separately.\n",
    "\n",
    "For details on how the image data is originally encoded in the dataset, please refer to the official documentation available on the [CIFAR-10 website](https://www.cs.toronto.edu/~kriz/cifar.html).\n"
   ]
  },
  {
   "cell_type": "code",
   "execution_count": null,
   "id": "8d080c26",
   "metadata": {
    "execution": {
     "iopub.execute_input": "2024-12-08T03:34:07.148634Z",
     "iopub.status.busy": "2024-12-08T03:34:07.148299Z",
     "iopub.status.idle": "2024-12-08T03:34:07.152655Z",
     "shell.execute_reply": "2024-12-08T03:34:07.152038Z"
    },
    "id": "WSMK10EmZMZ1",
    "outputId": "df3e4917-8943-4f2f-a1c0-43daef9fe5d3",
    "papermill": {
     "duration": 0.01217,
     "end_time": "2024-12-08T03:34:07.154259",
     "exception": false,
     "start_time": "2024-12-08T03:34:07.142089",
     "status": "completed"
    },
    "tags": []
   },
   "outputs": [],
   "source": [
    "from google.colab import drive\n",
    "drive.mount('/content/drive')"
   ]
  },
  {
   "cell_type": "code",
   "execution_count": null,
   "id": "3dcbb6c4",
   "metadata": {
    "execution": {
     "iopub.execute_input": "2024-12-08T03:34:12.352983Z",
     "iopub.status.busy": "2024-12-08T03:34:12.351952Z",
     "iopub.status.idle": "2024-12-08T03:34:12.356183Z",
     "shell.execute_reply": "2024-12-08T03:34:12.355455Z"
    },
    "id": "C-8CrnDuZRm0",
    "papermill": {
     "duration": 0.011696,
     "end_time": "2024-12-08T03:34:12.357902",
     "exception": false,
     "start_time": "2024-12-08T03:34:12.346206",
     "status": "completed"
    },
    "tags": []
   },
   "outputs": [],
   "source": [
    "def unpickle(file):\n",
    "    import pickle\n",
    "    with open(file, 'rb') as fo:\n",
    "        dict = pickle.load(fo, encoding='bytes')\n",
    "    return dict"
   ]
  },
  {
   "cell_type": "code",
   "execution_count": null,
   "id": "5d08fa36",
   "metadata": {
    "execution": {
     "iopub.execute_input": "2024-12-08T03:34:12.367222Z",
     "iopub.status.busy": "2024-12-08T03:34:12.366967Z",
     "iopub.status.idle": "2024-12-08T03:34:12.370658Z",
     "shell.execute_reply": "2024-12-08T03:34:12.369808Z"
    },
    "id": "CbHDdzpuZHIE",
    "papermill": {
     "duration": 0.010158,
     "end_time": "2024-12-08T03:34:12.372302",
     "exception": false,
     "start_time": "2024-12-08T03:34:12.362144",
     "status": "completed"
    },
    "tags": []
   },
   "outputs": [],
   "source": [
    "file_paths = [\"data_batch_1\", \"data_batch_2\", \"data_batch_3\", \"data_batch_4\", \"data_batch_5\", \"test_batch\"]\n",
    "dicts = []\n",
    "for f in file_paths:\n",
    "    dicts.append(unpickle(\"/content/drive/MyDrive/Colab Notebooks/LRA/cifar-10-batches-py/\" + f))"
   ]
  },
  {
   "cell_type": "code",
   "execution_count": null,
   "id": "f4137e3f",
   "metadata": {
    "execution": {
     "iopub.execute_input": "2024-12-08T03:34:12.381593Z",
     "iopub.status.busy": "2024-12-08T03:34:12.381343Z",
     "iopub.status.idle": "2024-12-08T03:34:12.384783Z",
     "shell.execute_reply": "2024-12-08T03:34:12.384052Z"
    },
    "id": "o5ygaZTNZHIE",
    "outputId": "a54f04b7-2fd7-4fea-9d8b-5bd10cb7df10",
    "papermill": {
     "duration": 0.010051,
     "end_time": "2024-12-08T03:34:12.386443",
     "exception": false,
     "start_time": "2024-12-08T03:34:12.376392",
     "status": "completed"
    },
    "tags": []
   },
   "outputs": [],
   "source": [
    "dicts[0].keys()"
   ]
  },
  {
   "cell_type": "code",
   "execution_count": null,
   "id": "8b16ed22",
   "metadata": {
    "execution": {
     "iopub.execute_input": "2024-12-08T03:34:12.396723Z",
     "iopub.status.busy": "2024-12-08T03:34:12.395957Z",
     "iopub.status.idle": "2024-12-08T03:34:12.399580Z",
     "shell.execute_reply": "2024-12-08T03:34:12.398866Z"
    },
    "id": "cN2-twylZHIF",
    "outputId": "903eee30-3c8b-4a80-f085-91642949f1cc",
    "papermill": {
     "duration": 0.010571,
     "end_time": "2024-12-08T03:34:12.401242",
     "exception": false,
     "start_time": "2024-12-08T03:34:12.390671",
     "status": "completed"
    },
    "tags": []
   },
   "outputs": [],
   "source": [
    "# First image in the first batch of the train\n",
    "len(dicts[0][b\"data\"][0])"
   ]
  },
  {
   "cell_type": "code",
   "execution_count": null,
   "id": "64a2a9f4",
   "metadata": {
    "execution": {
     "iopub.execute_input": "2024-12-08T03:34:12.410978Z",
     "iopub.status.busy": "2024-12-08T03:34:12.410693Z",
     "iopub.status.idle": "2024-12-08T03:34:12.414280Z",
     "shell.execute_reply": "2024-12-08T03:34:12.413621Z"
    },
    "id": "IyhtsigeeW3v",
    "outputId": "763db0aa-2310-4940-9f03-dfb2da469e3d",
    "papermill": {
     "duration": 0.010034,
     "end_time": "2024-12-08T03:34:12.415894",
     "exception": false,
     "start_time": "2024-12-08T03:34:12.405860",
     "status": "completed"
    },
    "tags": []
   },
   "outputs": [],
   "source": [
    "print(dicts[0][b\"data\"][0][0])\n",
    "print(dicts[0][b\"data\"][0][1024])\n",
    "print(dicts[0][b\"data\"][0][2048])\n",
    "print()\n",
    "print(dicts[0][b\"data\"][0][1])\n",
    "print(dicts[0][b\"data\"][0][1025])\n",
    "print(dicts[0][b\"data\"][0][2049])\n",
    "print()\n",
    "print(dicts[0][b\"data\"][1][0])\n",
    "print(dicts[0][b\"data\"][1][1024])\n",
    "print(dicts[0][b\"data\"][1][2048])"
   ]
  },
  {
   "cell_type": "code",
   "execution_count": null,
   "id": "347dbd72",
   "metadata": {
    "execution": {
     "iopub.execute_input": "2024-12-08T03:34:12.424894Z",
     "iopub.status.busy": "2024-12-08T03:34:12.424608Z",
     "iopub.status.idle": "2024-12-08T03:34:12.428640Z",
     "shell.execute_reply": "2024-12-08T03:34:12.427834Z"
    },
    "id": "z-yr6ifyjBt5",
    "papermill": {
     "duration": 0.010313,
     "end_time": "2024-12-08T03:34:12.430272",
     "exception": false,
     "start_time": "2024-12-08T03:34:12.419959",
     "status": "completed"
    },
    "tags": []
   },
   "outputs": [],
   "source": [
    "# Convert CIFAR-10 data to list of pixels with RGB values\n",
    "def convert_to_pixel_list(data):\n",
    "    pixel_list = []\n",
    "    for image_data in data:\n",
    "        pixels = []\n",
    "        for i in range(1024):\n",
    "            r = image_data[i]\n",
    "            g = image_data[i + 1024]\n",
    "            b = image_data[i + 2048]\n",
    "            pixels.append([r, g, b])\n",
    "        pixel_list.append(pixels)\n",
    "    return pixel_list"
   ]
  },
  {
   "cell_type": "code",
   "execution_count": null,
   "id": "181815d5",
   "metadata": {
    "execution": {
     "iopub.execute_input": "2024-12-08T03:34:12.439089Z",
     "iopub.status.busy": "2024-12-08T03:34:12.438824Z",
     "iopub.status.idle": "2024-12-08T03:34:12.442146Z",
     "shell.execute_reply": "2024-12-08T03:34:12.441421Z"
    },
    "id": "s4KvQ8WHp6SC",
    "papermill": {
     "duration": 0.009429,
     "end_time": "2024-12-08T03:34:12.443604",
     "exception": false,
     "start_time": "2024-12-08T03:34:12.434175",
     "status": "completed"
    },
    "tags": []
   },
   "outputs": [],
   "source": [
    "train_data_raw_1 = convert_to_pixel_list(dicts[0][b\"data\"])\n",
    "train_labels_1 = dicts[0][b\"labels\"]\n",
    "df = pd.DataFrame({\n",
    "        \"pixels\": [np.array(pixels).flatten().tolist() for pixels in train_data_raw_1],\n",
    "        \"label\": train_labels_1\n",
    "    })\n",
    "df.to_csv(f\"/content/drive/MyDrive/Colab Notebooks/LRA/processed/cifar10_train_part_1.csv\", index=False)"
   ]
  },
  {
   "cell_type": "code",
   "execution_count": null,
   "id": "21577d89",
   "metadata": {
    "execution": {
     "iopub.execute_input": "2024-12-08T03:34:12.452666Z",
     "iopub.status.busy": "2024-12-08T03:34:12.452417Z",
     "iopub.status.idle": "2024-12-08T03:34:12.455810Z",
     "shell.execute_reply": "2024-12-08T03:34:12.455061Z"
    },
    "id": "HHocH7ZgujLq",
    "papermill": {
     "duration": 0.009653,
     "end_time": "2024-12-08T03:34:12.457408",
     "exception": false,
     "start_time": "2024-12-08T03:34:12.447755",
     "status": "completed"
    },
    "tags": []
   },
   "outputs": [],
   "source": [
    "train_data_raw_2 = convert_to_pixel_list(dicts[1][b\"data\"])\n",
    "train_labels_2 = dicts[1][b\"labels\"]\n",
    "df = pd.DataFrame({\n",
    "        \"pixels\": [np.array(pixels).flatten().tolist() for pixels in train_data_raw_2],\n",
    "        \"label\": train_labels_2\n",
    "    })\n",
    "df.to_csv(\"/content/drive/MyDrive/Colab Notebooks/LRA/processed/cifar10_train_part_2.csv\", index=False)"
   ]
  },
  {
   "cell_type": "code",
   "execution_count": null,
   "id": "5c645041",
   "metadata": {
    "execution": {
     "iopub.execute_input": "2024-12-08T03:34:12.466187Z",
     "iopub.status.busy": "2024-12-08T03:34:12.465949Z",
     "iopub.status.idle": "2024-12-08T03:34:12.469301Z",
     "shell.execute_reply": "2024-12-08T03:34:12.468528Z"
    },
    "id": "LgpBXll2uiH2",
    "papermill": {
     "duration": 0.009455,
     "end_time": "2024-12-08T03:34:12.470824",
     "exception": false,
     "start_time": "2024-12-08T03:34:12.461369",
     "status": "completed"
    },
    "tags": []
   },
   "outputs": [],
   "source": [
    "train_data_raw_3 = convert_to_pixel_list(dicts[2][b\"data\"])\n",
    "train_labels_3 = dicts[2][b\"labels\"]\n",
    "df = pd.DataFrame({\n",
    "        \"pixels\": [np.array(pixels).flatten().tolist() for pixels in train_data_raw_3],\n",
    "        \"label\": train_labels_3\n",
    "    })\n",
    "df.to_csv(\"/content/drive/MyDrive/Colab Notebooks/LRA/processed/cifar10_train_part_3.csv\", index=False)"
   ]
  },
  {
   "cell_type": "code",
   "execution_count": null,
   "id": "b6c84acc",
   "metadata": {
    "execution": {
     "iopub.execute_input": "2024-12-08T03:34:12.479720Z",
     "iopub.status.busy": "2024-12-08T03:34:12.479476Z",
     "iopub.status.idle": "2024-12-08T03:34:12.482798Z",
     "shell.execute_reply": "2024-12-08T03:34:12.482041Z"
    },
    "id": "_ofKScXuuhFS",
    "papermill": {
     "duration": 0.009422,
     "end_time": "2024-12-08T03:34:12.484349",
     "exception": false,
     "start_time": "2024-12-08T03:34:12.474927",
     "status": "completed"
    },
    "tags": []
   },
   "outputs": [],
   "source": [
    "train_data_raw_4 = convert_to_pixel_list(dicts[3][b\"data\"])\n",
    "train_labels_4 = dicts[3][b\"labels\"]\n",
    "df = pd.DataFrame({\n",
    "        \"pixels\": [np.array(pixels).flatten().tolist() for pixels in train_data_raw_4],\n",
    "        \"label\": train_labels_4\n",
    "    })\n",
    "df.to_csv(\"/content/drive/MyDrive/Colab Notebooks/LRA/processed/cifar10_train_part_4.csv\", index=False)"
   ]
  },
  {
   "cell_type": "code",
   "execution_count": null,
   "id": "b0660864",
   "metadata": {
    "execution": {
     "iopub.execute_input": "2024-12-08T03:34:12.493105Z",
     "iopub.status.busy": "2024-12-08T03:34:12.492838Z",
     "iopub.status.idle": "2024-12-08T03:34:12.496120Z",
     "shell.execute_reply": "2024-12-08T03:34:12.495421Z"
    },
    "id": "ylHB2CA6ufqK",
    "papermill": {
     "duration": 0.009357,
     "end_time": "2024-12-08T03:34:12.497627",
     "exception": false,
     "start_time": "2024-12-08T03:34:12.488270",
     "status": "completed"
    },
    "tags": []
   },
   "outputs": [],
   "source": [
    "train_data_raw_5 = convert_to_pixel_list(dicts[4][b\"data\"])\n",
    "train_labels_5 = dicts[4][b\"labels\"]\n",
    "df = pd.DataFrame({\n",
    "        \"pixels\": [np.array(pixels).flatten().tolist() for pixels in train_data_raw_5],\n",
    "        \"label\": train_labels_5\n",
    "    })\n",
    "df.to_csv(\"/content/drive/MyDrive/Colab Notebooks/LRA/processed/cifar10_train_part_5.csv\", index=False)"
   ]
  },
  {
   "cell_type": "code",
   "execution_count": null,
   "id": "3facc0e8",
   "metadata": {
    "execution": {
     "iopub.execute_input": "2024-12-08T03:34:12.506314Z",
     "iopub.status.busy": "2024-12-08T03:34:12.506102Z",
     "iopub.status.idle": "2024-12-08T03:34:12.509651Z",
     "shell.execute_reply": "2024-12-08T03:34:12.508895Z"
    },
    "id": "MWTbzS_Ds3g5",
    "papermill": {
     "duration": 0.0096,
     "end_time": "2024-12-08T03:34:12.511140",
     "exception": false,
     "start_time": "2024-12-08T03:34:12.501540",
     "status": "completed"
    },
    "tags": []
   },
   "outputs": [],
   "source": [
    "# Reload the five CSV files\n",
    "df1 = pd.read_csv(\"/content/drive/MyDrive/Colab Notebooks/LRA/processed/cifar10_train_part_1.csv\")\n",
    "df2 = pd.read_csv(\"/content/drive/MyDrive/Colab Notebooks/LRA/processed/cifar10_train_part_2.csv\")\n",
    "df3 = pd.read_csv(\"/content/drive/MyDrive/Colab Notebooks/LRA/processed/cifar10_train_part_3.csv\")\n",
    "df4 = pd.read_csv(\"/content/drive/MyDrive/Colab Notebooks/LRA/processed/cifar10_train_part_4.csv\")\n",
    "df5 = pd.read_csv(\"/content/drive/MyDrive/Colab Notebooks/LRA/processed/cifar10_train_part_5.csv\")\n",
    "\n",
    "# Merge all DataFrames into one\n",
    "merged_df = pd.concat([df1, df2, df3, df4, df5], ignore_index=True)\n",
    "merged_df.to_csv(\"/content/drive/MyDrive/Colab Notebooks/LRA/processed/merged_train.csv\", index=False)"
   ]
  },
  {
   "cell_type": "code",
   "execution_count": null,
   "id": "a009dda6",
   "metadata": {
    "execution": {
     "iopub.execute_input": "2024-12-08T03:34:22.837658Z",
     "iopub.status.busy": "2024-12-08T03:34:22.837042Z",
     "iopub.status.idle": "2024-12-08T03:34:22.841411Z",
     "shell.execute_reply": "2024-12-08T03:34:22.840643Z"
    },
    "id": "QqVT93qgq0Bw",
    "papermill": {
     "duration": 0.012318,
     "end_time": "2024-12-08T03:34:22.843557",
     "exception": false,
     "start_time": "2024-12-08T03:34:22.831239",
     "status": "completed"
    },
    "tags": []
   },
   "outputs": [],
   "source": [
    "# Prepare test data\n",
    "test_data = convert_to_pixel_list(dicts[5][b\"data\"])\n",
    "test_labels = np.array(dicts[5][b\"labels\"])\n",
    "\n",
    "test_df = pd.DataFrame({\n",
    "        \"pixels\": [np.array(pixels).flatten().tolist() for pixels in test_data],\n",
    "        \"label\": test_labels\n",
    "    })\n",
    "test_df.to_csv(\"/content/drive/MyDrive/Colab Notebooks/LRA/processed/cifar10_test.csv\", index=False)"
   ]
  },
  {
   "cell_type": "markdown",
   "id": "38a9202e",
   "metadata": {},
   "source": [
    "#### Loading the Processed Data"
   ]
  },
  {
   "cell_type": "code",
   "execution_count": 15,
   "id": "c7763c00",
   "metadata": {
    "execution": {
     "iopub.execute_input": "2024-12-08T03:34:12.519819Z",
     "iopub.status.busy": "2024-12-08T03:34:12.519580Z",
     "iopub.status.idle": "2024-12-08T03:34:22.824238Z",
     "shell.execute_reply": "2024-12-08T03:34:22.823234Z"
    },
    "id": "IQURxW9M5STk",
    "outputId": "486bf902-5962-4486-d777-7d851f6e26db",
    "papermill": {
     "duration": 10.311278,
     "end_time": "2024-12-08T03:34:22.826344",
     "exception": false,
     "start_time": "2024-12-08T03:34:12.515066",
     "status": "completed"
    },
    "tags": []
   },
   "outputs": [
    {
     "data": {
      "text/html": [
       "<div>\n",
       "<style scoped>\n",
       "    .dataframe tbody tr th:only-of-type {\n",
       "        vertical-align: middle;\n",
       "    }\n",
       "\n",
       "    .dataframe tbody tr th {\n",
       "        vertical-align: top;\n",
       "    }\n",
       "\n",
       "    .dataframe thead th {\n",
       "        text-align: right;\n",
       "    }\n",
       "</style>\n",
       "<table border=\"1\" class=\"dataframe\">\n",
       "  <thead>\n",
       "    <tr style=\"text-align: right;\">\n",
       "      <th></th>\n",
       "      <th>pixels</th>\n",
       "      <th>label</th>\n",
       "    </tr>\n",
       "  </thead>\n",
       "  <tbody>\n",
       "    <tr>\n",
       "      <th>0</th>\n",
       "      <td>[59, 62, 63, 43, 46, 45, 50, 48, 43, 68, 54, 4...</td>\n",
       "      <td>6</td>\n",
       "    </tr>\n",
       "    <tr>\n",
       "      <th>1</th>\n",
       "      <td>[154, 177, 187, 126, 137, 136, 105, 104, 95, 1...</td>\n",
       "      <td>9</td>\n",
       "    </tr>\n",
       "    <tr>\n",
       "      <th>2</th>\n",
       "      <td>[255, 255, 255, 253, 253, 253, 253, 253, 253, ...</td>\n",
       "      <td>9</td>\n",
       "    </tr>\n",
       "    <tr>\n",
       "      <th>3</th>\n",
       "      <td>[28, 25, 10, 37, 34, 19, 38, 35, 20, 42, 37, 2...</td>\n",
       "      <td>4</td>\n",
       "    </tr>\n",
       "    <tr>\n",
       "      <th>4</th>\n",
       "      <td>[170, 180, 198, 168, 178, 196, 177, 185, 203, ...</td>\n",
       "      <td>1</td>\n",
       "    </tr>\n",
       "    <tr>\n",
       "      <th>...</th>\n",
       "      <td>...</td>\n",
       "      <td>...</td>\n",
       "    </tr>\n",
       "    <tr>\n",
       "      <th>49995</th>\n",
       "      <td>[145, 161, 194, 151, 166, 199, 156, 171, 205, ...</td>\n",
       "      <td>2</td>\n",
       "    </tr>\n",
       "    <tr>\n",
       "      <th>49996</th>\n",
       "      <td>[255, 245, 132, 254, 247, 134, 255, 249, 137, ...</td>\n",
       "      <td>6</td>\n",
       "    </tr>\n",
       "    <tr>\n",
       "      <th>49997</th>\n",
       "      <td>[35, 178, 235, 40, 176, 239, 42, 176, 241, 39,...</td>\n",
       "      <td>9</td>\n",
       "    </tr>\n",
       "    <tr>\n",
       "      <th>49998</th>\n",
       "      <td>[189, 211, 240, 186, 208, 236, 185, 207, 235, ...</td>\n",
       "      <td>1</td>\n",
       "    </tr>\n",
       "    <tr>\n",
       "      <th>49999</th>\n",
       "      <td>[229, 229, 239, 236, 237, 247, 234, 236, 247, ...</td>\n",
       "      <td>1</td>\n",
       "    </tr>\n",
       "  </tbody>\n",
       "</table>\n",
       "<p>50000 rows × 2 columns</p>\n",
       "</div>"
      ],
      "text/plain": [
       "                                                  pixels  label\n",
       "0      [59, 62, 63, 43, 46, 45, 50, 48, 43, 68, 54, 4...      6\n",
       "1      [154, 177, 187, 126, 137, 136, 105, 104, 95, 1...      9\n",
       "2      [255, 255, 255, 253, 253, 253, 253, 253, 253, ...      9\n",
       "3      [28, 25, 10, 37, 34, 19, 38, 35, 20, 42, 37, 2...      4\n",
       "4      [170, 180, 198, 168, 178, 196, 177, 185, 203, ...      1\n",
       "...                                                  ...    ...\n",
       "49995  [145, 161, 194, 151, 166, 199, 156, 171, 205, ...      2\n",
       "49996  [255, 245, 132, 254, 247, 134, 255, 249, 137, ...      6\n",
       "49997  [35, 178, 235, 40, 176, 239, 42, 176, 241, 39,...      9\n",
       "49998  [189, 211, 240, 186, 208, 236, 185, 207, 235, ...      1\n",
       "49999  [229, 229, 239, 236, 237, 247, 234, 236, 247, ...      1\n",
       "\n",
       "[50000 rows x 2 columns]"
      ]
     },
     "execution_count": 15,
     "metadata": {},
     "output_type": "execute_result"
    }
   ],
   "source": [
    "train_df = pd.read_csv(\"/kaggle/input/processed-cifar/merged_train.csv\")\n",
    "train_df"
   ]
  },
  {
   "cell_type": "code",
   "execution_count": 17,
   "id": "a4f6cd99",
   "metadata": {
    "execution": {
     "iopub.execute_input": "2024-12-08T03:34:22.858815Z",
     "iopub.status.busy": "2024-12-08T03:34:22.858530Z",
     "iopub.status.idle": "2024-12-08T03:34:25.110190Z",
     "shell.execute_reply": "2024-12-08T03:34:25.109308Z"
    },
    "id": "p2jT6SJi5zpn",
    "outputId": "83cd5d31-7939-4b8e-8368-4ff289ecdd76",
    "papermill": {
     "duration": 2.261262,
     "end_time": "2024-12-08T03:34:25.111983",
     "exception": false,
     "start_time": "2024-12-08T03:34:22.850721",
     "status": "completed"
    },
    "tags": []
   },
   "outputs": [
    {
     "data": {
      "text/html": [
       "<div>\n",
       "<style scoped>\n",
       "    .dataframe tbody tr th:only-of-type {\n",
       "        vertical-align: middle;\n",
       "    }\n",
       "\n",
       "    .dataframe tbody tr th {\n",
       "        vertical-align: top;\n",
       "    }\n",
       "\n",
       "    .dataframe thead th {\n",
       "        text-align: right;\n",
       "    }\n",
       "</style>\n",
       "<table border=\"1\" class=\"dataframe\">\n",
       "  <thead>\n",
       "    <tr style=\"text-align: right;\">\n",
       "      <th></th>\n",
       "      <th>pixels</th>\n",
       "      <th>label</th>\n",
       "    </tr>\n",
       "  </thead>\n",
       "  <tbody>\n",
       "    <tr>\n",
       "      <th>0</th>\n",
       "      <td>[158, 112, 49, 159, 111, 47, 165, 116, 51, 166...</td>\n",
       "      <td>3</td>\n",
       "    </tr>\n",
       "    <tr>\n",
       "      <th>1</th>\n",
       "      <td>[235, 235, 235, 231, 231, 231, 232, 232, 232, ...</td>\n",
       "      <td>8</td>\n",
       "    </tr>\n",
       "    <tr>\n",
       "      <th>2</th>\n",
       "      <td>[158, 190, 222, 158, 187, 218, 139, 166, 194, ...</td>\n",
       "      <td>8</td>\n",
       "    </tr>\n",
       "    <tr>\n",
       "      <th>3</th>\n",
       "      <td>[155, 156, 149, 167, 176, 187, 176, 179, 193, ...</td>\n",
       "      <td>0</td>\n",
       "    </tr>\n",
       "    <tr>\n",
       "      <th>4</th>\n",
       "      <td>[65, 68, 50, 70, 81, 64, 48, 64, 46, 30, 46, 3...</td>\n",
       "      <td>6</td>\n",
       "    </tr>\n",
       "    <tr>\n",
       "      <th>...</th>\n",
       "      <td>...</td>\n",
       "      <td>...</td>\n",
       "    </tr>\n",
       "    <tr>\n",
       "      <th>9995</th>\n",
       "      <td>[76, 78, 133, 76, 78, 134, 77, 80, 132, 76, 81...</td>\n",
       "      <td>8</td>\n",
       "    </tr>\n",
       "    <tr>\n",
       "      <th>9996</th>\n",
       "      <td>[81, 57, 43, 91, 69, 53, 98, 75, 63, 106, 80, ...</td>\n",
       "      <td>3</td>\n",
       "    </tr>\n",
       "    <tr>\n",
       "      <th>9997</th>\n",
       "      <td>[20, 15, 12, 19, 14, 11, 15, 14, 11, 15, 14, 1...</td>\n",
       "      <td>5</td>\n",
       "    </tr>\n",
       "    <tr>\n",
       "      <th>9998</th>\n",
       "      <td>[25, 40, 12, 15, 36, 3, 23, 41, 18, 17, 28, 14...</td>\n",
       "      <td>1</td>\n",
       "    </tr>\n",
       "    <tr>\n",
       "      <th>9999</th>\n",
       "      <td>[73, 78, 75, 98, 103, 113, 99, 106, 114, 77, 8...</td>\n",
       "      <td>7</td>\n",
       "    </tr>\n",
       "  </tbody>\n",
       "</table>\n",
       "<p>10000 rows × 2 columns</p>\n",
       "</div>"
      ],
      "text/plain": [
       "                                                 pixels  label\n",
       "0     [158, 112, 49, 159, 111, 47, 165, 116, 51, 166...      3\n",
       "1     [235, 235, 235, 231, 231, 231, 232, 232, 232, ...      8\n",
       "2     [158, 190, 222, 158, 187, 218, 139, 166, 194, ...      8\n",
       "3     [155, 156, 149, 167, 176, 187, 176, 179, 193, ...      0\n",
       "4     [65, 68, 50, 70, 81, 64, 48, 64, 46, 30, 46, 3...      6\n",
       "...                                                 ...    ...\n",
       "9995  [76, 78, 133, 76, 78, 134, 77, 80, 132, 76, 81...      8\n",
       "9996  [81, 57, 43, 91, 69, 53, 98, 75, 63, 106, 80, ...      3\n",
       "9997  [20, 15, 12, 19, 14, 11, 15, 14, 11, 15, 14, 1...      5\n",
       "9998  [25, 40, 12, 15, 36, 3, 23, 41, 18, 17, 28, 14...      1\n",
       "9999  [73, 78, 75, 98, 103, 113, 99, 106, 114, 77, 8...      7\n",
       "\n",
       "[10000 rows x 2 columns]"
      ]
     },
     "execution_count": 17,
     "metadata": {},
     "output_type": "execute_result"
    }
   ],
   "source": [
    "test_df = pd.read_csv(\"/kaggle/input/processed-cifar/cifar10_test.csv\")\n",
    "test_df"
   ]
  },
  {
   "cell_type": "code",
   "execution_count": 19,
   "id": "bd65dcff",
   "metadata": {
    "execution": {
     "iopub.execute_input": "2024-12-08T03:34:25.139622Z",
     "iopub.status.busy": "2024-12-08T03:34:25.139372Z",
     "iopub.status.idle": "2024-12-08T03:34:25.149492Z",
     "shell.execute_reply": "2024-12-08T03:34:25.148759Z"
    },
    "id": "IibacJaH6kHA",
    "outputId": "1fa4f5e1-2998-4039-94bc-a79f500fc46f",
    "papermill": {
     "duration": 0.016957,
     "end_time": "2024-12-08T03:34:25.151091",
     "exception": false,
     "start_time": "2024-12-08T03:34:25.134134",
     "status": "completed"
    },
    "tags": []
   },
   "outputs": [
    {
     "data": {
      "text/plain": [
       "array([[ 59,  62,  63],\n",
       "       [ 43,  46,  45],\n",
       "       [ 50,  48,  43],\n",
       "       ...,\n",
       "       [216, 184, 140],\n",
       "       [151, 118,  84],\n",
       "       [123,  92,  72]])"
      ]
     },
     "execution_count": 19,
     "metadata": {},
     "output_type": "execute_result"
    }
   ],
   "source": [
    "np.array(eval(train_df.iloc[0][\"pixels\"])).reshape(1024, 3)"
   ]
  },
  {
   "cell_type": "markdown",
   "id": "1dc5dc9d",
   "metadata": {},
   "source": [
    "### Creating Datasets and Dataloaders"
   ]
  },
  {
   "cell_type": "code",
   "execution_count": null,
   "id": "6fbc8436",
   "metadata": {
    "execution": {
     "iopub.execute_input": "2024-12-08T03:34:25.161316Z",
     "iopub.status.busy": "2024-12-08T03:34:25.161074Z",
     "iopub.status.idle": "2024-12-08T03:37:23.721471Z",
     "shell.execute_reply": "2024-12-08T03:37:23.720727Z"
    },
    "id": "bmRYawo2ZHIG",
    "outputId": "e0ad8dfb-3366-4ee6-9b6e-084af22ecd56",
    "papermill": {
     "duration": 178.567991,
     "end_time": "2024-12-08T03:37:23.723566",
     "exception": false,
     "start_time": "2024-12-08T03:34:25.155575",
     "status": "completed"
    },
    "tags": []
   },
   "outputs": [],
   "source": [
    "# Custom Dataset class for CIFAR-10 using DataFrames\n",
    "class CIFAR10Dataset(Dataset):\n",
    "    def __init__(self, df, transform=None):\n",
    "        self.data = df['pixels'].apply(eval).values  # Convert string representation of list to actual list\n",
    "        self.labels = df['label'].values\n",
    "        self.transform = transform\n",
    "\n",
    "    def __len__(self):\n",
    "        return len(self.data)\n",
    "\n",
    "    def __getitem__(self, idx):\n",
    "        image = np.array(self.data[idx], dtype=np.uint8)  # Pixel values are integers (0-255)\n",
    "        \n",
    "        # Reshape the image to 1024 rows and 3 columns (RGB channels)\n",
    "        image = image.reshape(1024, 3)\n",
    "        label = self.labels[idx]\n",
    "\n",
    "        if self.transform:\n",
    "            image = self.transform(image)\n",
    "\n",
    "        return image, label\n",
    "\n",
    "# Create Datasets from the merged DataFrames\n",
    "train_dataset = CIFAR10Dataset(train_df, transform=None)\n",
    "test_dataset = CIFAR10Dataset(test_df, transform=None)\n",
    "\n",
    "# Create DataLoaders\n",
    "train_loader = DataLoader(train_dataset, batch_size=128, shuffle=True, num_workers=4)\n",
    "test_loader = DataLoader(test_dataset, batch_size=128, shuffle=False, num_workers=4)"
   ]
  },
  {
   "cell_type": "code",
   "execution_count": null,
   "id": "397f85d5",
   "metadata": {
    "execution": {
     "iopub.execute_input": "2024-12-08T03:37:23.734331Z",
     "iopub.status.busy": "2024-12-08T03:37:23.734049Z",
     "iopub.status.idle": "2024-12-08T03:37:24.141723Z",
     "shell.execute_reply": "2024-12-08T03:37:24.140597Z"
    },
    "id": "kcjeEeAj0A4V",
    "outputId": "54b6145f-b785-48b1-b17b-f7caa12e0584",
    "papermill": {
     "duration": 0.415062,
     "end_time": "2024-12-08T03:37:24.143671",
     "exception": false,
     "start_time": "2024-12-08T03:37:23.728609",
     "status": "completed"
    },
    "tags": []
   },
   "outputs": [
    {
     "name": "stdout",
     "output_type": "stream",
     "text": [
      "torch.Size([128, 1024, 3]) torch.Size([128])\n",
      "tensor([[240, 248, 251],\n",
      "        [239, 246, 249],\n",
      "        [241, 246, 250],\n",
      "        ...,\n",
      "        [126, 144, 139],\n",
      "        [126, 144, 140],\n",
      "        [137, 155, 152]], dtype=torch.uint8)\n"
     ]
    }
   ],
   "source": [
    "# Testing that the loading was correctly established\n",
    "for images, labels in train_loader:\n",
    "    print(images.shape, labels.shape)  # Should output torch.Size([128, 1024, 3]) torch.Size([128])\n",
    "    print(images[0])\n",
    "    break"
   ]
  },
  {
   "cell_type": "markdown",
   "id": "61edc8b4",
   "metadata": {
    "id": "lCyf4BzLZHIG",
    "papermill": {
     "duration": 0.00446,
     "end_time": "2024-12-08T03:37:24.152973",
     "exception": false,
     "start_time": "2024-12-08T03:37:24.148513",
     "status": "completed"
    },
    "tags": []
   },
   "source": [
    "### Training the PiT"
   ]
  },
  {
   "cell_type": "code",
   "execution_count": null,
   "id": "bbe1db7c",
   "metadata": {
    "execution": {
     "iopub.execute_input": "2024-12-08T03:37:24.163437Z",
     "iopub.status.busy": "2024-12-08T03:37:24.163131Z",
     "iopub.status.idle": "2024-12-08T10:38:37.418504Z",
     "shell.execute_reply": "2024-12-08T10:38:37.417137Z"
    },
    "id": "tciO3Uheh12T",
    "papermill": {
     "duration": 25273.283683,
     "end_time": "2024-12-08T10:38:37.441239",
     "exception": false,
     "start_time": "2024-12-08T03:37:24.157556",
     "status": "completed"
    },
    "tags": []
   },
   "outputs": [
    {
     "name": "stdout",
     "output_type": "stream",
     "text": [
      "Epoch 1, Loss: 2.0685, Accuracy: 0.2221\n",
      "Epoch 2, Loss: 1.9728, Accuracy: 0.2653\n",
      "Epoch 3, Loss: 1.9285, Accuracy: 0.2885\n",
      "Epoch 4, Loss: 1.8985, Accuracy: 0.3017\n",
      "Epoch 5, Loss: 1.8683, Accuracy: 0.3137\n",
      "Epoch 6, Loss: 1.8444, Accuracy: 0.3233\n",
      "Epoch 7, Loss: 1.8114, Accuracy: 0.3358\n",
      "Epoch 8, Loss: 1.7765, Accuracy: 0.3485\n",
      "Epoch 9, Loss: 1.7512, Accuracy: 0.3580\n",
      "Epoch 10, Loss: 1.7260, Accuracy: 0.3673\n",
      "Epoch 11, Loss: 1.7110, Accuracy: 0.3724\n",
      "Epoch 12, Loss: 1.6984, Accuracy: 0.3772\n",
      "Epoch 13, Loss: 1.6905, Accuracy: 0.3813\n",
      "Epoch 14, Loss: 1.6795, Accuracy: 0.3872\n",
      "Epoch 15, Loss: 1.6721, Accuracy: 0.3876\n",
      "Epoch 16, Loss: 1.6646, Accuracy: 0.3909\n",
      "Epoch 17, Loss: 1.6608, Accuracy: 0.3915\n",
      "Epoch 18, Loss: 1.6486, Accuracy: 0.3991\n",
      "Epoch 19, Loss: 1.6432, Accuracy: 0.3990\n",
      "Epoch 20, Loss: 1.6371, Accuracy: 0.4021\n",
      "Epoch 21, Loss: 1.6325, Accuracy: 0.4050\n",
      "Epoch 22, Loss: 1.6230, Accuracy: 0.4081\n",
      "Epoch 23, Loss: 1.6173, Accuracy: 0.4105\n",
      "Epoch 24, Loss: 1.6163, Accuracy: 0.4102\n",
      "Epoch 25, Loss: 1.6071, Accuracy: 0.4149\n",
      "Epoch 26, Loss: 1.6038, Accuracy: 0.4154\n",
      "Epoch 27, Loss: 1.5968, Accuracy: 0.4178\n",
      "Epoch 28, Loss: 1.5913, Accuracy: 0.4221\n",
      "Epoch 29, Loss: 1.5883, Accuracy: 0.4226\n",
      "Epoch 30, Loss: 1.5803, Accuracy: 0.4238\n",
      "Epoch 31, Loss: 1.5759, Accuracy: 0.4254\n",
      "Epoch 32, Loss: 1.5703, Accuracy: 0.4284\n",
      "Epoch 33, Loss: 1.5684, Accuracy: 0.4275\n",
      "Epoch 34, Loss: 1.5614, Accuracy: 0.4314\n",
      "Epoch 35, Loss: 1.5575, Accuracy: 0.4344\n",
      "Epoch 36, Loss: 1.5501, Accuracy: 0.4366\n",
      "Epoch 37, Loss: 1.5454, Accuracy: 0.4397\n",
      "Epoch 38, Loss: 1.5421, Accuracy: 0.4398\n",
      "Epoch 39, Loss: 1.5383, Accuracy: 0.4398\n",
      "Epoch 40, Loss: 1.5312, Accuracy: 0.4441\n",
      "Epoch 41, Loss: 1.5261, Accuracy: 0.4453\n",
      "Epoch 42, Loss: 1.5217, Accuracy: 0.4466\n",
      "Epoch 43, Loss: 1.5200, Accuracy: 0.4470\n",
      "Epoch 44, Loss: 1.5123, Accuracy: 0.4523\n",
      "Epoch 45, Loss: 1.5094, Accuracy: 0.4539\n",
      "Epoch 46, Loss: 1.5045, Accuracy: 0.4567\n",
      "Epoch 47, Loss: 1.5031, Accuracy: 0.4545\n",
      "Epoch 48, Loss: 1.4955, Accuracy: 0.4600\n",
      "Epoch 49, Loss: 1.4922, Accuracy: 0.4594\n",
      "Epoch 50, Loss: 1.4872, Accuracy: 0.4620\n",
      "Epoch 51, Loss: 1.4835, Accuracy: 0.4624\n",
      "Epoch 52, Loss: 1.4814, Accuracy: 0.4624\n",
      "Epoch 53, Loss: 1.4758, Accuracy: 0.4634\n",
      "Epoch 54, Loss: 1.4708, Accuracy: 0.4668\n",
      "Epoch 55, Loss: 1.4676, Accuracy: 0.4674\n",
      "Epoch 56, Loss: 1.4619, Accuracy: 0.4700\n",
      "Epoch 57, Loss: 1.4606, Accuracy: 0.4716\n",
      "Epoch 58, Loss: 1.4558, Accuracy: 0.4736\n",
      "Epoch 59, Loss: 1.4520, Accuracy: 0.4748\n",
      "Epoch 60, Loss: 1.4475, Accuracy: 0.4750\n",
      "Epoch 61, Loss: 1.4434, Accuracy: 0.4774\n",
      "Epoch 62, Loss: 1.4401, Accuracy: 0.4772\n",
      "Epoch 63, Loss: 1.4333, Accuracy: 0.4810\n",
      "Epoch 64, Loss: 1.4332, Accuracy: 0.4805\n",
      "Epoch 65, Loss: 1.4252, Accuracy: 0.4844\n",
      "Epoch 66, Loss: 1.4228, Accuracy: 0.4863\n",
      "Epoch 67, Loss: 1.4156, Accuracy: 0.4886\n",
      "Epoch 68, Loss: 1.4163, Accuracy: 0.4884\n",
      "Epoch 69, Loss: 1.4104, Accuracy: 0.4913\n",
      "Epoch 70, Loss: 1.4071, Accuracy: 0.4934\n",
      "Epoch 71, Loss: 1.3990, Accuracy: 0.4962\n",
      "Epoch 72, Loss: 1.3963, Accuracy: 0.4949\n",
      "Epoch 73, Loss: 1.3927, Accuracy: 0.4999\n",
      "Epoch 74, Loss: 1.3884, Accuracy: 0.4995\n",
      "Epoch 75, Loss: 1.3846, Accuracy: 0.4999\n",
      "Epoch 76, Loss: 1.3819, Accuracy: 0.5019\n",
      "Epoch 77, Loss: 1.3727, Accuracy: 0.5048\n",
      "Epoch 78, Loss: 1.3703, Accuracy: 0.5065\n",
      "Epoch 79, Loss: 1.3635, Accuracy: 0.5067\n",
      "Epoch 80, Loss: 1.3579, Accuracy: 0.5094\n",
      "Epoch 81, Loss: 1.3570, Accuracy: 0.5109\n",
      "Epoch 82, Loss: 1.3473, Accuracy: 0.5139\n",
      "Epoch 83, Loss: 1.3394, Accuracy: 0.5159\n",
      "Epoch 84, Loss: 1.3357, Accuracy: 0.5148\n",
      "Epoch 85, Loss: 1.3314, Accuracy: 0.5181\n",
      "Epoch 86, Loss: 1.3202, Accuracy: 0.5228\n",
      "Epoch 87, Loss: 1.3176, Accuracy: 0.5239\n",
      "Epoch 88, Loss: 1.3127, Accuracy: 0.5277\n",
      "Epoch 89, Loss: 1.3098, Accuracy: 0.5269\n",
      "Epoch 90, Loss: 1.3023, Accuracy: 0.5289\n",
      "Epoch 91, Loss: 1.2981, Accuracy: 0.5302\n",
      "Epoch 92, Loss: 1.2903, Accuracy: 0.5346\n",
      "Epoch 93, Loss: 1.2842, Accuracy: 0.5374\n",
      "Epoch 94, Loss: 1.2815, Accuracy: 0.5362\n",
      "Epoch 95, Loss: 1.2726, Accuracy: 0.5414\n",
      "Epoch 96, Loss: 1.2683, Accuracy: 0.5418\n",
      "Epoch 97, Loss: 1.2567, Accuracy: 0.5488\n",
      "Epoch 98, Loss: 1.2552, Accuracy: 0.5467\n",
      "Epoch 99, Loss: 1.2515, Accuracy: 0.5463\n",
      "Epoch 100, Loss: 1.2448, Accuracy: 0.5492\n",
      "Epoch 101, Loss: 1.2480, Accuracy: 0.5478\n",
      "Epoch 102, Loss: 1.2343, Accuracy: 0.5562\n",
      "Epoch 103, Loss: 1.2313, Accuracy: 0.5549\n",
      "Epoch 104, Loss: 1.2253, Accuracy: 0.5577\n",
      "Epoch 105, Loss: 1.2203, Accuracy: 0.5581\n",
      "Epoch 106, Loss: 1.2182, Accuracy: 0.5598\n",
      "Epoch 107, Loss: 1.2119, Accuracy: 0.5635\n",
      "Epoch 108, Loss: 1.2031, Accuracy: 0.5670\n",
      "Epoch 109, Loss: 1.2042, Accuracy: 0.5658\n",
      "Epoch 110, Loss: 1.1943, Accuracy: 0.5694\n",
      "Epoch 111, Loss: 1.1883, Accuracy: 0.5729\n",
      "Epoch 112, Loss: 1.1968, Accuracy: 0.5678\n",
      "Epoch 113, Loss: 1.1773, Accuracy: 0.5765\n",
      "Epoch 114, Loss: 1.1778, Accuracy: 0.5753\n",
      "Epoch 115, Loss: 1.1768, Accuracy: 0.5747\n",
      "Epoch 116, Loss: 1.1668, Accuracy: 0.5796\n",
      "Epoch 117, Loss: 1.1593, Accuracy: 0.5804\n",
      "Epoch 118, Loss: 1.1579, Accuracy: 0.5796\n",
      "Epoch 119, Loss: 1.1504, Accuracy: 0.5844\n",
      "Epoch 120, Loss: 1.1485, Accuracy: 0.5859\n",
      "Epoch 121, Loss: 1.1428, Accuracy: 0.5889\n",
      "Epoch 122, Loss: 1.1390, Accuracy: 0.5894\n",
      "Epoch 123, Loss: 1.1344, Accuracy: 0.5910\n",
      "Epoch 124, Loss: 1.1350, Accuracy: 0.5898\n",
      "Epoch 125, Loss: 1.1208, Accuracy: 0.5965\n",
      "Epoch 126, Loss: 1.1216, Accuracy: 0.5950\n",
      "Epoch 127, Loss: 1.1126, Accuracy: 0.5978\n",
      "Epoch 128, Loss: 1.1087, Accuracy: 0.5977\n",
      "Epoch 129, Loss: 1.1049, Accuracy: 0.6000\n",
      "Epoch 130, Loss: 1.1000, Accuracy: 0.6016\n",
      "Epoch 131, Loss: 1.0978, Accuracy: 0.6040\n",
      "Epoch 132, Loss: 1.0929, Accuracy: 0.6050\n",
      "Epoch 133, Loss: 1.0936, Accuracy: 0.6042\n",
      "Epoch 134, Loss: 1.0830, Accuracy: 0.6089\n",
      "Epoch 135, Loss: 1.0824, Accuracy: 0.6119\n",
      "Epoch 136, Loss: 1.0720, Accuracy: 0.6144\n",
      "Epoch 137, Loss: 1.0629, Accuracy: 0.6174\n",
      "Epoch 138, Loss: 1.0604, Accuracy: 0.6165\n",
      "Epoch 139, Loss: 1.0590, Accuracy: 0.6188\n",
      "Epoch 140, Loss: 1.0547, Accuracy: 0.6201\n",
      "Epoch 141, Loss: 1.0557, Accuracy: 0.6181\n",
      "Epoch 142, Loss: 1.0432, Accuracy: 0.6251\n",
      "Epoch 143, Loss: 1.0397, Accuracy: 0.6235\n",
      "Epoch 144, Loss: 1.0374, Accuracy: 0.6259\n",
      "Epoch 145, Loss: 1.0300, Accuracy: 0.6288\n",
      "Epoch 146, Loss: 1.0347, Accuracy: 0.6265\n",
      "Epoch 147, Loss: 1.0291, Accuracy: 0.6297\n",
      "Epoch 148, Loss: 1.0142, Accuracy: 0.6325\n",
      "Epoch 149, Loss: 1.0158, Accuracy: 0.6332\n",
      "Epoch 150, Loss: 1.0097, Accuracy: 0.6349\n",
      "Epoch 151, Loss: 1.0069, Accuracy: 0.6377\n",
      "Epoch 152, Loss: 1.0053, Accuracy: 0.6403\n",
      "Epoch 153, Loss: 0.9995, Accuracy: 0.6410\n",
      "Epoch 154, Loss: 0.9929, Accuracy: 0.6438\n",
      "Epoch 155, Loss: 0.9913, Accuracy: 0.6421\n",
      "Epoch 156, Loss: 0.9886, Accuracy: 0.6426\n",
      "Epoch 157, Loss: 0.9811, Accuracy: 0.6466\n",
      "Epoch 158, Loss: 0.9822, Accuracy: 0.6468\n",
      "Epoch 159, Loss: 0.9762, Accuracy: 0.6475\n",
      "Epoch 160, Loss: 0.9723, Accuracy: 0.6489\n",
      "Epoch 161, Loss: 0.9689, Accuracy: 0.6502\n",
      "Epoch 162, Loss: 0.9610, Accuracy: 0.6537\n",
      "Epoch 163, Loss: 0.9622, Accuracy: 0.6537\n",
      "Epoch 164, Loss: 0.9567, Accuracy: 0.6556\n",
      "Epoch 165, Loss: 0.9546, Accuracy: 0.6563\n",
      "Epoch 166, Loss: 0.9420, Accuracy: 0.6597\n",
      "Epoch 167, Loss: 0.9473, Accuracy: 0.6608\n",
      "Epoch 168, Loss: 0.9431, Accuracy: 0.6616\n",
      "Epoch 169, Loss: 0.9316, Accuracy: 0.6654\n",
      "Epoch 170, Loss: 0.9294, Accuracy: 0.6639\n",
      "Epoch 171, Loss: 0.9250, Accuracy: 0.6666\n",
      "Epoch 172, Loss: 0.9279, Accuracy: 0.6658\n",
      "Epoch 173, Loss: 0.9211, Accuracy: 0.6681\n",
      "Epoch 174, Loss: 0.9156, Accuracy: 0.6711\n",
      "Epoch 175, Loss: 0.9136, Accuracy: 0.6721\n",
      "Epoch 176, Loss: 0.9082, Accuracy: 0.6697\n",
      "Epoch 177, Loss: 0.9073, Accuracy: 0.6756\n",
      "Epoch 178, Loss: 0.9032, Accuracy: 0.6761\n",
      "Epoch 179, Loss: 0.8973, Accuracy: 0.6769\n",
      "Epoch 180, Loss: 0.8970, Accuracy: 0.6768\n",
      "Epoch 181, Loss: 0.8944, Accuracy: 0.6784\n",
      "Epoch 182, Loss: 0.8868, Accuracy: 0.6795\n",
      "Epoch 183, Loss: 0.8857, Accuracy: 0.6789\n",
      "Epoch 184, Loss: 0.8821, Accuracy: 0.6821\n",
      "Epoch 185, Loss: 0.8774, Accuracy: 0.6844\n",
      "Epoch 186, Loss: 0.8727, Accuracy: 0.6869\n",
      "Epoch 187, Loss: 0.8758, Accuracy: 0.6830\n",
      "Epoch 188, Loss: 0.8723, Accuracy: 0.6858\n",
      "Epoch 189, Loss: 0.8659, Accuracy: 0.6850\n",
      "Epoch 190, Loss: 0.8587, Accuracy: 0.6910\n",
      "Epoch 191, Loss: 0.8555, Accuracy: 0.6905\n",
      "Epoch 192, Loss: 0.8526, Accuracy: 0.6931\n",
      "Epoch 193, Loss: 0.8516, Accuracy: 0.6930\n",
      "Epoch 194, Loss: 0.8457, Accuracy: 0.6953\n",
      "Epoch 195, Loss: 0.8417, Accuracy: 0.6977\n",
      "Epoch 196, Loss: 0.8343, Accuracy: 0.7008\n",
      "Epoch 197, Loss: 0.8408, Accuracy: 0.6970\n",
      "Epoch 198, Loss: 0.8361, Accuracy: 0.6985\n",
      "Epoch 199, Loss: 0.8336, Accuracy: 0.6998\n",
      "Epoch 200, Loss: 0.8314, Accuracy: 0.7004\n",
      "Epoch 201, Loss: 0.8204, Accuracy: 0.7039\n",
      "Epoch 202, Loss: 0.8285, Accuracy: 0.7027\n",
      "Epoch 203, Loss: 0.8202, Accuracy: 0.7070\n",
      "Epoch 204, Loss: 0.8105, Accuracy: 0.7078\n",
      "Epoch 205, Loss: 0.8207, Accuracy: 0.7052\n",
      "Epoch 206, Loss: 0.8095, Accuracy: 0.7089\n",
      "Epoch 207, Loss: 0.8109, Accuracy: 0.7084\n",
      "Epoch 208, Loss: 0.8068, Accuracy: 0.7095\n",
      "Epoch 209, Loss: 0.8061, Accuracy: 0.7096\n",
      "Epoch 210, Loss: 0.7974, Accuracy: 0.7137\n",
      "Epoch 211, Loss: 0.7956, Accuracy: 0.7119\n",
      "Epoch 212, Loss: 0.7939, Accuracy: 0.7137\n",
      "Epoch 213, Loss: 0.7897, Accuracy: 0.7163\n",
      "Epoch 214, Loss: 0.7847, Accuracy: 0.7204\n",
      "Epoch 215, Loss: 0.7840, Accuracy: 0.7153\n",
      "Epoch 216, Loss: 0.7742, Accuracy: 0.7227\n",
      "Epoch 217, Loss: 0.7743, Accuracy: 0.7208\n",
      "Epoch 218, Loss: 0.7756, Accuracy: 0.7216\n",
      "Epoch 219, Loss: 0.7754, Accuracy: 0.7231\n",
      "Epoch 220, Loss: 0.7719, Accuracy: 0.7223\n",
      "Epoch 221, Loss: 0.7636, Accuracy: 0.7271\n",
      "Epoch 222, Loss: 0.7634, Accuracy: 0.7266\n",
      "Epoch 223, Loss: 0.7539, Accuracy: 0.7291\n",
      "Epoch 224, Loss: 0.7492, Accuracy: 0.7309\n",
      "Epoch 225, Loss: 0.7577, Accuracy: 0.7296\n",
      "Epoch 226, Loss: 0.7529, Accuracy: 0.7272\n",
      "Epoch 227, Loss: 0.7503, Accuracy: 0.7296\n",
      "Epoch 228, Loss: 0.7498, Accuracy: 0.7311\n",
      "Epoch 229, Loss: 0.7456, Accuracy: 0.7312\n",
      "Epoch 230, Loss: 0.7410, Accuracy: 0.7344\n",
      "Epoch 231, Loss: 0.7370, Accuracy: 0.7326\n",
      "Epoch 232, Loss: 0.7385, Accuracy: 0.7334\n",
      "Epoch 233, Loss: 0.7400, Accuracy: 0.7323\n",
      "Epoch 234, Loss: 0.7290, Accuracy: 0.7375\n",
      "Epoch 235, Loss: 0.7182, Accuracy: 0.7431\n",
      "Epoch 236, Loss: 0.7192, Accuracy: 0.7417\n",
      "Epoch 237, Loss: 0.7247, Accuracy: 0.7386\n",
      "Epoch 238, Loss: 0.7216, Accuracy: 0.7392\n",
      "Epoch 239, Loss: 0.7181, Accuracy: 0.7418\n",
      "Epoch 240, Loss: 0.7102, Accuracy: 0.7445\n",
      "Epoch 241, Loss: 0.7134, Accuracy: 0.7433\n",
      "Epoch 242, Loss: 0.7021, Accuracy: 0.7481\n",
      "Epoch 243, Loss: 0.7099, Accuracy: 0.7446\n",
      "Epoch 244, Loss: 0.7064, Accuracy: 0.7484\n",
      "Epoch 245, Loss: 0.7048, Accuracy: 0.7471\n",
      "Epoch 246, Loss: 0.6949, Accuracy: 0.7515\n",
      "Epoch 247, Loss: 0.7000, Accuracy: 0.7483\n",
      "Epoch 248, Loss: 0.6988, Accuracy: 0.7470\n",
      "Epoch 249, Loss: 0.6937, Accuracy: 0.7497\n",
      "Epoch 250, Loss: 0.6933, Accuracy: 0.7520\n",
      "Epoch 251, Loss: 0.6825, Accuracy: 0.7534\n",
      "Epoch 252, Loss: 0.6829, Accuracy: 0.7563\n",
      "Epoch 253, Loss: 0.6857, Accuracy: 0.7519\n",
      "Epoch 254, Loss: 0.6754, Accuracy: 0.7574\n",
      "Epoch 255, Loss: 0.6827, Accuracy: 0.7536\n",
      "Epoch 256, Loss: 0.6741, Accuracy: 0.7585\n",
      "Epoch 257, Loss: 0.6699, Accuracy: 0.7581\n",
      "Epoch 258, Loss: 0.6707, Accuracy: 0.7583\n",
      "Epoch 259, Loss: 0.6656, Accuracy: 0.7608\n",
      "Epoch 260, Loss: 0.6719, Accuracy: 0.7591\n",
      "Epoch 261, Loss: 0.6689, Accuracy: 0.7587\n",
      "Epoch 262, Loss: 0.6611, Accuracy: 0.7600\n",
      "Epoch 263, Loss: 0.6620, Accuracy: 0.7624\n",
      "Epoch 264, Loss: 0.6583, Accuracy: 0.7635\n",
      "Epoch 265, Loss: 0.6534, Accuracy: 0.7641\n",
      "Epoch 266, Loss: 0.6558, Accuracy: 0.7663\n",
      "Epoch 267, Loss: 0.6433, Accuracy: 0.7678\n",
      "Epoch 268, Loss: 0.6373, Accuracy: 0.7697\n",
      "Epoch 269, Loss: 0.6472, Accuracy: 0.7684\n",
      "Epoch 270, Loss: 0.6418, Accuracy: 0.7703\n",
      "Epoch 271, Loss: 0.6481, Accuracy: 0.7665\n",
      "Epoch 272, Loss: 0.6360, Accuracy: 0.7692\n",
      "Epoch 273, Loss: 0.6411, Accuracy: 0.7704\n",
      "Epoch 274, Loss: 0.6404, Accuracy: 0.7689\n",
      "Epoch 275, Loss: 0.6346, Accuracy: 0.7709\n",
      "Epoch 276, Loss: 0.6353, Accuracy: 0.7705\n",
      "Epoch 277, Loss: 0.6311, Accuracy: 0.7707\n",
      "Epoch 278, Loss: 0.6294, Accuracy: 0.7725\n",
      "Epoch 279, Loss: 0.6195, Accuracy: 0.7779\n",
      "Epoch 280, Loss: 0.6230, Accuracy: 0.7785\n",
      "Epoch 281, Loss: 0.6124, Accuracy: 0.7796\n",
      "Epoch 282, Loss: 0.6197, Accuracy: 0.7762\n",
      "Epoch 283, Loss: 0.6212, Accuracy: 0.7762\n",
      "Epoch 284, Loss: 0.6257, Accuracy: 0.7754\n",
      "Epoch 285, Loss: 0.6127, Accuracy: 0.7800\n",
      "Epoch 286, Loss: 0.6111, Accuracy: 0.7806\n",
      "Epoch 287, Loss: 0.6097, Accuracy: 0.7813\n",
      "Epoch 288, Loss: 0.6021, Accuracy: 0.7855\n",
      "Epoch 289, Loss: 0.6024, Accuracy: 0.7849\n",
      "Epoch 290, Loss: 0.5929, Accuracy: 0.7859\n",
      "Epoch 291, Loss: 0.5987, Accuracy: 0.7851\n",
      "Epoch 292, Loss: 0.6037, Accuracy: 0.7827\n",
      "Epoch 293, Loss: 0.5936, Accuracy: 0.7858\n",
      "Epoch 294, Loss: 0.5996, Accuracy: 0.7838\n",
      "Epoch 295, Loss: 0.5936, Accuracy: 0.7875\n",
      "Epoch 296, Loss: 0.5849, Accuracy: 0.7897\n",
      "Epoch 297, Loss: 0.5867, Accuracy: 0.7892\n",
      "Epoch 298, Loss: 0.5860, Accuracy: 0.7896\n",
      "Epoch 299, Loss: 0.5859, Accuracy: 0.7893\n",
      "Epoch 300, Loss: 0.5777, Accuracy: 0.7937\n",
      "Epoch 301, Loss: 0.5884, Accuracy: 0.7892\n",
      "Epoch 302, Loss: 0.5773, Accuracy: 0.7923\n",
      "Epoch 303, Loss: 0.5693, Accuracy: 0.7962\n",
      "Epoch 304, Loss: 0.5825, Accuracy: 0.7912\n",
      "Epoch 305, Loss: 0.5766, Accuracy: 0.7926\n",
      "Epoch 306, Loss: 0.5677, Accuracy: 0.7971\n",
      "Epoch 307, Loss: 0.5612, Accuracy: 0.7989\n",
      "Epoch 308, Loss: 0.5627, Accuracy: 0.7993\n",
      "Epoch 309, Loss: 0.5673, Accuracy: 0.7962\n",
      "Epoch 310, Loss: 0.5595, Accuracy: 0.7981\n",
      "Epoch 311, Loss: 0.5628, Accuracy: 0.7987\n",
      "Epoch 312, Loss: 0.5633, Accuracy: 0.7987\n",
      "Epoch 313, Loss: 0.5651, Accuracy: 0.7984\n",
      "Epoch 314, Loss: 0.5484, Accuracy: 0.8038\n",
      "Epoch 315, Loss: 0.5455, Accuracy: 0.8051\n",
      "Epoch 316, Loss: 0.5588, Accuracy: 0.8000\n",
      "Epoch 317, Loss: 0.5489, Accuracy: 0.8028\n",
      "Epoch 318, Loss: 0.5593, Accuracy: 0.7981\n",
      "Epoch 319, Loss: 0.5548, Accuracy: 0.8000\n",
      "Epoch 320, Loss: 0.5388, Accuracy: 0.8065\n",
      "Epoch 321, Loss: 0.5461, Accuracy: 0.8041\n",
      "Epoch 322, Loss: 0.5443, Accuracy: 0.8044\n",
      "Epoch 323, Loss: 0.5410, Accuracy: 0.8044\n",
      "Epoch 324, Loss: 0.5381, Accuracy: 0.8083\n",
      "Epoch 325, Loss: 0.5537, Accuracy: 0.8043\n",
      "Epoch 326, Loss: 0.5329, Accuracy: 0.8079\n",
      "Epoch 327, Loss: 0.5304, Accuracy: 0.8100\n",
      "Epoch 328, Loss: 0.5417, Accuracy: 0.8081\n",
      "Epoch 329, Loss: 0.5365, Accuracy: 0.8058\n",
      "Epoch 330, Loss: 0.5408, Accuracy: 0.8053\n",
      "Epoch 331, Loss: 0.5242, Accuracy: 0.8097\n",
      "Epoch 332, Loss: 0.5393, Accuracy: 0.8045\n",
      "Epoch 333, Loss: 0.5348, Accuracy: 0.8085\n",
      "Epoch 334, Loss: 0.5186, Accuracy: 0.8164\n",
      "Epoch 335, Loss: 0.5315, Accuracy: 0.8069\n",
      "Epoch 336, Loss: 0.5266, Accuracy: 0.8113\n",
      "Epoch 337, Loss: 0.5176, Accuracy: 0.8147\n",
      "Epoch 338, Loss: 0.5103, Accuracy: 0.8151\n",
      "Epoch 339, Loss: 0.5224, Accuracy: 0.8122\n",
      "Epoch 340, Loss: 0.5234, Accuracy: 0.8099\n",
      "Epoch 341, Loss: 0.5175, Accuracy: 0.8140\n",
      "Epoch 342, Loss: 0.5058, Accuracy: 0.8180\n",
      "Epoch 343, Loss: 0.5192, Accuracy: 0.8125\n",
      "Epoch 344, Loss: 0.5086, Accuracy: 0.8171\n",
      "Epoch 345, Loss: 0.5092, Accuracy: 0.8167\n",
      "Epoch 346, Loss: 0.4985, Accuracy: 0.8224\n",
      "Epoch 347, Loss: 0.5032, Accuracy: 0.8188\n",
      "Epoch 348, Loss: 0.5066, Accuracy: 0.8173\n",
      "Epoch 349, Loss: 0.5185, Accuracy: 0.8147\n",
      "Epoch 350, Loss: 0.4911, Accuracy: 0.8224\n",
      "Epoch 351, Loss: 0.4945, Accuracy: 0.8241\n",
      "Epoch 352, Loss: 0.5012, Accuracy: 0.8209\n",
      "Epoch 353, Loss: 0.4943, Accuracy: 0.8225\n",
      "Epoch 354, Loss: 0.4943, Accuracy: 0.8222\n",
      "Epoch 355, Loss: 0.5009, Accuracy: 0.8211\n",
      "Epoch 356, Loss: 0.4891, Accuracy: 0.8266\n",
      "Epoch 357, Loss: 0.4917, Accuracy: 0.8241\n",
      "Epoch 358, Loss: 0.4867, Accuracy: 0.8259\n",
      "Epoch 359, Loss: 0.4876, Accuracy: 0.8262\n",
      "Epoch 360, Loss: 0.4978, Accuracy: 0.8221\n",
      "Epoch 361, Loss: 0.4769, Accuracy: 0.8290\n",
      "Epoch 362, Loss: 0.4877, Accuracy: 0.8245\n",
      "Epoch 363, Loss: 0.4836, Accuracy: 0.8252\n",
      "Epoch 364, Loss: 0.4925, Accuracy: 0.8233\n",
      "Epoch 365, Loss: 0.4796, Accuracy: 0.8289\n",
      "Epoch 366, Loss: 0.4663, Accuracy: 0.8330\n",
      "Epoch 367, Loss: 0.4890, Accuracy: 0.8245\n",
      "Epoch 368, Loss: 0.4871, Accuracy: 0.8254\n",
      "Epoch 369, Loss: 0.4777, Accuracy: 0.8287\n",
      "Epoch 370, Loss: 0.4753, Accuracy: 0.8297\n",
      "Epoch 371, Loss: 0.4640, Accuracy: 0.8327\n",
      "Epoch 372, Loss: 0.4649, Accuracy: 0.8333\n",
      "Epoch 373, Loss: 0.4889, Accuracy: 0.8248\n",
      "Epoch 374, Loss: 0.4582, Accuracy: 0.8360\n",
      "Epoch 375, Loss: 0.4577, Accuracy: 0.8364\n",
      "Epoch 376, Loss: 0.4746, Accuracy: 0.8298\n",
      "Epoch 377, Loss: 0.4840, Accuracy: 0.8273\n",
      "Epoch 378, Loss: 0.4625, Accuracy: 0.8349\n",
      "Epoch 379, Loss: 0.4609, Accuracy: 0.8355\n",
      "Epoch 380, Loss: 0.4624, Accuracy: 0.8330\n",
      "Epoch 381, Loss: 0.4662, Accuracy: 0.8314\n",
      "Epoch 382, Loss: 0.4652, Accuracy: 0.8318\n",
      "Epoch 383, Loss: 0.4574, Accuracy: 0.8358\n",
      "Epoch 384, Loss: 0.4579, Accuracy: 0.8348\n",
      "Epoch 385, Loss: 0.4538, Accuracy: 0.8377\n",
      "Epoch 386, Loss: 0.4499, Accuracy: 0.8397\n",
      "Epoch 387, Loss: 0.4626, Accuracy: 0.8343\n",
      "Epoch 388, Loss: 0.4558, Accuracy: 0.8365\n",
      "Epoch 389, Loss: 0.4505, Accuracy: 0.8385\n",
      "Epoch 390, Loss: 0.4502, Accuracy: 0.8382\n",
      "Epoch 391, Loss: 0.4456, Accuracy: 0.8410\n",
      "Epoch 392, Loss: 0.4466, Accuracy: 0.8413\n",
      "Epoch 393, Loss: 0.4556, Accuracy: 0.8350\n",
      "Epoch 394, Loss: 0.4470, Accuracy: 0.8405\n",
      "Epoch 395, Loss: 0.4445, Accuracy: 0.8403\n",
      "Epoch 396, Loss: 0.4559, Accuracy: 0.8360\n",
      "Epoch 397, Loss: 0.4360, Accuracy: 0.8421\n",
      "Epoch 398, Loss: 0.4276, Accuracy: 0.8477\n",
      "Epoch 399, Loss: 0.4533, Accuracy: 0.8369\n",
      "Epoch 400, Loss: 0.4366, Accuracy: 0.8438\n"
     ]
    }
   ],
   "source": [
    "# PiT Implementation\n",
    "class PiT(nn.Module):\n",
    "    def __init__(self, dim=192, depth=1, heads=1, mlp_dim=768, num_classes=10, dropout=0.1):\n",
    "        super(PiT, self).__init__()\n",
    "        self.token_dim = dim\n",
    "\n",
    "        # Token embedding: linear projection of each pixel's RGB values\n",
    "        self.tokenizer = nn.Linear(3, dim)  # f\n",
    "\n",
    "        # Learnable position embeddings\n",
    "        self.position_embeddings = nn.Parameter(torch.randn(1024, dim))\n",
    "\n",
    "        # Transformer Encoder\n",
    "        self.transformer = nn.Sequential(\n",
    "            *[TransformerBlock(dim, heads, mlp_dim, dropout) for _ in range(depth)]\n",
    "        )\n",
    "\n",
    "        # Classification head\n",
    "        self.classifier = nn.Sequential(\n",
    "            nn.LayerNorm(dim),\n",
    "            nn.Linear(dim, num_classes)\n",
    "        )\n",
    "\n",
    "    def forward(self, x):\n",
    "        batch_size = x.size(0)\n",
    "\n",
    "        # Tokenize pixels\n",
    "        x = self.tokenizer(x)  # (B, 1024, dim)\n",
    "\n",
    "        # Add position embeddings\n",
    "        x = x + self.position_embeddings # (B, 1024, dim)\n",
    "\n",
    "        # Pass through transformer\n",
    "        x = self.transformer(x) # (B, 1024, dim)\n",
    "\n",
    "        # Global average pooling\n",
    "        x = x.mean(dim=1) # (B, dim)\n",
    "\n",
    "        # Classification\n",
    "        return self.classifier(x)\n",
    "\n",
    "# Transformer Block\n",
    "class TransformerBlock(nn.Module):\n",
    "    def __init__(self, dim, heads, mlp_dim, dropout):\n",
    "        super(TransformerBlock, self).__init__()\n",
    "        self.norm1 = nn.LayerNorm(dim)\n",
    "        self.attention = nn.MultiheadAttention(embed_dim=dim, num_heads=heads, batch_first=True)\n",
    "        self.norm2 = nn.LayerNorm(dim)\n",
    "        self.mlp = nn.Sequential(\n",
    "            nn.Linear(dim, mlp_dim),\n",
    "            nn.GELU(),\n",
    "            nn.Dropout(dropout),\n",
    "            nn.Linear(mlp_dim, dim),\n",
    "            nn.Dropout(dropout)\n",
    "        )\n",
    "\n",
    "    def forward(self, x):\n",
    "        # Self-attention\n",
    "        attn_output, _ = self.attention(self.norm1(x), self.norm1(x), self.norm1(x))\n",
    "        x = x + attn_output\n",
    "\n",
    "        # MLP\n",
    "        x = x + self.mlp(self.norm2(x))\n",
    "        return x\n",
    "\n",
    "number_epochs = 400\n",
    "model = PiT().to(\"cuda\")\n",
    "criterion = nn.CrossEntropyLoss()\n",
    "optimizer = torch.optim.AdamW(model.parameters(), lr=0.001)\n",
    "\n",
    "# Initialize lists to store losses and accuracies\n",
    "train_losses = []\n",
    "train_accuracies = []\n",
    "\n",
    "for epoch in range(number_epochs):  \n",
    "    model.train()\n",
    "    total_loss, correct, total = 0, 0, 0\n",
    "\n",
    "    for images, labels in train_loader:\n",
    "        images, labels = images.float().to(\"cuda\"), labels.to(\"cuda\")\n",
    "\n",
    "        optimizer.zero_grad()\n",
    "        outputs = model(images) # (B, 10)\n",
    "        loss = criterion(outputs, labels)\n",
    "        loss.backward()\n",
    "        optimizer.step()\n",
    "\n",
    "        total_loss += loss.item() * labels.size(0)\n",
    "        correct += (outputs.argmax(1) == labels).sum().item()\n",
    "        total += labels.size(0)\n",
    "\n",
    "    # Calculate epoch loss and accuracy\n",
    "    epoch_loss = total_loss / total\n",
    "    epoch_accuracy = correct / total\n",
    "\n",
    "    # Store loss and accuracy\n",
    "    train_losses.append(epoch_loss)\n",
    "    train_accuracies.append(epoch_accuracy)\n",
    "    \n",
    "    print(f\"Epoch {epoch + 1}, Loss: {epoch_loss:.4f}, Accuracy: {epoch_accuracy:.4f}\")"
   ]
  },
  {
   "cell_type": "code",
   "execution_count": null,
   "id": "d1fa5838",
   "metadata": {},
   "outputs": [
    {
     "data": {
      "image/png": "[encoded data removed]",
      "text/plain": [
       "<Figure size 2000x700 with 1 Axes>"
      ]
     },
     "metadata": {},
     "output_type": "display_data"
    }
   ],
   "source": [
    "plt.figure(figsize=(20, 7))\n",
    "plt.plot(range(1, 400 + 1), train_losses, marker='', color='blue')\n",
    "plt.title('Training Loss over Epochs')\n",
    "plt.xlabel('Epoch')\n",
    "plt.ylabel('Loss')\n",
    "plt.grid(True)\n",
    "plt.show()"
   ]
  },
  {
   "cell_type": "code",
   "execution_count": 23,
   "id": "95c0694e",
   "metadata": {
    "execution": {
     "iopub.execute_input": "2024-12-08T10:38:37.485471Z",
     "iopub.status.busy": "2024-12-08T10:38:37.484653Z",
     "iopub.status.idle": "2024-12-08T10:38:42.098319Z",
     "shell.execute_reply": "2024-12-08T10:38:42.097283Z"
    },
    "papermill": {
     "duration": 4.638226,
     "end_time": "2024-12-08T10:38:42.100420",
     "exception": false,
     "start_time": "2024-12-08T10:38:37.462194",
     "status": "completed"
    },
    "tags": []
   },
   "outputs": [
    {
     "name": "stdout",
     "output_type": "stream",
     "text": [
      "Test Accuracy: 0.4216\n"
     ]
    }
   ],
   "source": [
    "# Evaluation\n",
    "model.eval()\n",
    "correct, total = 0, 0\n",
    "with torch.no_grad():\n",
    "    for images, labels in test_loader:\n",
    "        images, labels = images.float().to(\"cuda\"), labels.to(\"cuda\")\n",
    "        outputs = model(images)\n",
    "        correct += (outputs.argmax(1) == labels).sum().item()\n",
    "        total += labels.size(0)\n",
    "\n",
    "print(f\"Test Accuracy: {correct / total:.4f}\")"
   ]
  }
 ],
 "metadata": {
  "accelerator": "GPU",
  "colab": {
   "gpuType": "T4",
   "provenance": []
  },
  "kaggle": {
   "accelerator": "gpu",
   "dataSources": [
    {
     "datasetId": 6251319,
     "sourceId": 10129549,
     "sourceType": "datasetVersion"
    }
   ],
   "dockerImageVersionId": 30805,
   "isGpuEnabled": true,
   "isInternetEnabled": true,
   "language": "python",
   "sourceType": "notebook"
  },
  "kernelspec": {
   "display_name": "Python 3",
   "language": "python",
   "name": "python3"
  },
  "language_info": {
   "codemirror_mode": {
    "name": "ipython",
    "version": 3
   },
   "file_extension": ".py",
   "mimetype": "text/x-python",
   "name": "python",
   "nbconvert_exporter": "python",
   "pygments_lexer": "ipython3",
   "version": "3.11.3"
  },
  "papermill": {
   "default_parameters": {},
   "duration": 25481.218097,
   "end_time": "2024-12-08T10:38:45.893622",
   "environment_variables": {},
   "exception": null,
   "input_path": "__notebook__.ipynb",
   "output_path": "__notebook__.ipynb",
   "parameters": {},
   "start_time": "2024-12-08T03:34:04.675525",
   "version": "2.6.0"
  }
 },
 "nbformat": 4,
 "nbformat_minor": 5
}
